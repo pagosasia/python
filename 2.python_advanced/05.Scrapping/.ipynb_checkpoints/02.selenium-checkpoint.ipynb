{
 "cells": [
  {
   "cell_type": "markdown",
   "metadata": {},
   "source": [
    "### Today, we will scrape Producthunt with Selenium\n",
    "\n",
    "Selenium is a tool initially created to automate tests on websites. It is therefore very useful when information is accessible by clicking on links. A button for example is an element on which it is very difficult to obtain the link. Beautifull soup then becomes limited.\n",
    "In this case, use Selenium"
   ]
  },
  {
   "cell_type": "markdown",
   "metadata": {},
   "source": [
    "### Load libraries"
   ]
  },
  {
   "cell_type": "code",
   "execution_count": 3,
   "metadata": {},
   "outputs": [],
   "source": [
    "import bs4\n",
    "import requests\n",
    "from bs4 import BeautifulSoup\n",
    "import numpy as np\n",
    "import pandas as pd\n",
    "import json\n",
    "import re\n",
    "import lxml.html\n",
    "import time\n",
    "import random\n",
    "from random import randint\n",
    "import logging\n",
    "import collections\n",
    "from time import gmtime, strftime\n",
    "\n",
    "import re\n",
    "from tabulate import tabulate\n",
    "import os\n",
    "date=strftime(\"%Y-%m-%d\")\n"
   ]
  },
  {
   "cell_type": "markdown",
   "metadata": {},
   "source": [
    "### Install Selenium according to this manual\n",
    "\n",
    "https://selenium-python.readthedocs.io/installation.html#downloading-python-bindings-for-selenium/bin\n",
    "\n",
    "nb: Linux: put your geckodriver (the downloaded extension) in the equivalent path at home to /home/YOURNAME/.local/bin"
   ]
  },
  {
   "cell_type": "markdown",
   "metadata": {},
   "source": [
    "We will simulate a search on the official Phython website"
   ]
  },
  {
   "cell_type": "code",
   "execution_count": 11,
   "metadata": {},
   "outputs": [],
   "source": [
    "import selenium\n",
    "\n",
    "# The selenium.webdriver module provides all the implementations of WebDriver. WebDriver implementations \n",
    "# Currently supported are Firefox, Chrome, IE and Remote. The Keys class provides keys in \n",
    "# the keyboard such as RETURN, F1, ALT etc.\n",
    "from selenium import webdriver\n",
    "from selenium.webdriver.common.keys import Keys\n",
    "# Then, the instance of Firefox WebDriver is created.\n",
    "driver = webdriver.Chrome()\n",
    "# The driver.get method will lead to a page given by the URL. WebDriver will wait until the page is fully completed \n",
    "# loaded (i.e. the \"onload\" event has been triggered) before returning the control to your script. \n",
    "# It should be noted that if your page uses a lot of AJAX when loading, WebDriver may not know \n",
    "# when it was fully charged:\n",
    "driver.get(\"http://www.python.org\")\n",
    "# The following line is a statement confirming that the title contains the word \"Python\"\n",
    "assert \"Python\" in driver.title\n",
    "# WebDriver offers several methods to search for items using one of the methods \n",
    "# find_element_by_by_ * . For example, the input text element can be located by its name attribute by \n",
    "# using the find_element_by_name method \n",
    "elem = driver.find_element_by_name(\"q\")\n",
    "# Then we send keys. This is similar to entering keys using your keyboard. \n",
    "# Special keys can be sent using the imported selenium.webdriver.common.keys Keys class. \n",
    "# For security reasons, we will delete any pre-filled text in the input field \n",
    "# (for example, \"Search\") so that it does not affect our search results:\n",
    "\n",
    "\n",
    "elem.clear()\n",
    "elem.send_keys(\"pycon\")\n",
    "elem.send_keys(Keys.RETURN)\n",
    "\n",
    "#After submitting the page, you should get the result if there is one. To ensure that certain results \n",
    "# are found, make an assertion:\n",
    "assert \"No results found.\" not in driver.page_source\n",
    "driver.close()"
   ]
  },
  {
   "cell_type": "markdown",
   "metadata": {},
   "source": [
    "#### Open the source code of this page (HTML) and check that the search area (field) is called \"q\".\n",
    "\n",
    "input id=\"id-search-field\" name=\"q\" type=\"search\" role=\"textbox\" class=\"search-field placeholder\" placeholder=\"Search\" value=\"\" tabindex=\"1\""
   ]
  },
  {
   "cell_type": "code",
   "execution_count": 15,
   "metadata": {},
   "outputs": [
    {
     "name": "stdout",
     "output_type": "stream",
     "text": [
      "https://www.python.org/ 200\n",
      "q\n"
     ]
    }
   ],
   "source": [
    "url='https://www.python.org/'\n",
    "r = requests.get(url)\n",
    "print(url, r.status_code)\n",
    "soup = BeautifulSoup(r.content,'lxml')\n",
    "for p in soup.find_all('input'):\n",
    "    print (p.get(\"name\"))"
   ]
  },
  {
   "cell_type": "markdown",
   "metadata": {},
   "source": [
    "### Getting a phone number from an ad in the right place"
   ]
  },
  {
   "cell_type": "code",
   "execution_count": 25,
   "metadata": {},
   "outputs": [
    {
     "name": "stdout",
     "output_type": "stream",
     "text": [
      "06 13 01 24 29\n"
     ]
    }
   ],
   "source": [
    "from selenium import webdriver\n",
    "from selenium.webdriver.support.ui import WebDriverWait\n",
    "from selenium.webdriver.support import expected_conditions as EC\n",
    "from selenium.common.exceptions import TimeoutException\n",
    "from selenium.webdriver.common.by import By\n",
    "\n",
    "url='https://www.leboncoin.fr/equipement_auto/1906151573.htm'\n",
    "\n",
    "driver = webdriver.Chrome()\n",
    "driver.implicitly_wait(30)\n",
    "driver.get(url)\n",
    "time.sleep(2)\n",
    "\n",
    "python_button = driver.find_element(By.CSS_SELECTOR,'[title=\"voir le numéro\"]')\n",
    "time.sleep(10)\n",
    "python_button.click()\n",
    "\n",
    "# And then it's like Beautiful soup\n",
    "soup=BeautifulSoup(driver.page_source)\n",
    "\n",
    "driver.close()\n",
    "telephone=\"\"\n",
    "\n",
    "# And then it's like Beautiful soup\n",
    "for elem in soup.find_all('a',attrs={\"title\":\"appeler\"}):\n",
    "    telephone = elem.text\n",
    "    print(elem.text)"
   ]
  },
  {
   "cell_type": "markdown",
   "metadata": {},
   "source": [
    "### Starting from an ad in the right place, collect all the information available to define the product being sold. Use selenium for the telephone number"
   ]
  },
  {
   "cell_type": "code",
   "execution_count": 36,
   "metadata": {},
   "outputs": [
    {
     "name": "stdout",
     "output_type": "stream",
     "text": [
      "Title: Pneus Occasions et Neufs R15 \n",
      "\n",
      "Prix: 25 € \n",
      "\n",
      "Ajouter le: 16/04/2021 à 11:10 \n",
      "\n",
      "Description: Docteur Pneus vous propose des pneus de toutes marques Michelin, Goodyear Bridgestone, Hankook, Continental... à partir de 25€ le pneu.\n",
      "Et comme nous aimons autant prendre soin de vous que de votre auto, nous vous offrons le montage et l’équilibrage :o)\n",
      "\n",
      "Exemple :\n",
      "185/65/15 : 50€ la paire \n",
      "195/65/15 : 50€ la paire \n",
      "185/60/15 : 50€ la paire \n",
      "\n",
      "Nous avons toutes les dimensions : \n",
      "205/65/15 195/55/15 185/55/15 195/50/15 205/60/15 195/60/15 165/60/15 165/65/15 205/70/15 mais également des pneus camio... \n",
      "\n"
     ]
    }
   ],
   "source": [
    "for elem in soup.find_all(\"h1\", attrs={\"data-qa-id\":\"adview_title\"}):\n",
    "    print(\"Title: \"+elem.text, \"\\n\")\n",
    "\n",
    "    \n",
    "for elem in soup.find_all(\"div\", attrs={\"data-qa-id\":\"adview_price\"})[0]:\n",
    "    print(\"Prix: \"+elem.next_element.text, \"\\n\")\n",
    "\n",
    "for elem in soup.find_all(\"p\", attrs={\"data-qa-id\":\"adview_date\"})[0]:\n",
    "    print(\"Ajouter le: \"+elem, \"\\n\")\n",
    "\n",
    "for elem in soup.find_all(\"span\", attrs={\"class\":\"_1fFkI\"}):\n",
    "    print(\"Description: \"+elem.text, \"\\n\")\n"
   ]
  },
  {
   "cell_type": "markdown",
   "metadata": {},
   "source": [
    "### API (Application Program Interface)"
   ]
  },
  {
   "cell_type": "markdown",
   "metadata": {},
   "source": [
    "A set of tools and methods that allow different applications to interact with each other. In the case of a web service, we can retrieve data dynamically. By using an API correctly, we can thus obtain in real time, the modifications made on a \"parent\" site.\n",
    "\n",
    "For example, we will retrieve online news, for example from the \"L'équipe\" website."
   ]
  },
  {
   "cell_type": "markdown",
   "metadata": {},
   "source": [
    "Follow the instructions at https://newsapi.org/s/lequipe-api to retrieve an \"API key\" connection key"
   ]
  },
  {
   "cell_type": "markdown",
   "metadata": {},
   "source": [
    "Your API key is: 73bbb95f8ecb49b499113a46481b4af1\n",
    "\n",
    "\n",
    "It is frequent that a key does not work after a while 5mins 30 mins 1 d ...\n",
    "So don't jump up if you get an error message back."
   ]
  },
  {
   "cell_type": "code",
   "execution_count": 37,
   "metadata": {
    "scrolled": true
   },
   "outputs": [
    {
     "name": "stdout",
     "output_type": "stream",
     "text": [
      "{'status': 'ok', 'totalResults': 10, 'articles': [{'source': {'id': 'lequipe', 'name': \"L'equipe\"}, 'author': \"L'EQUIPE\", 'title': 'Les plus beaux buts redessinés #7\\xa0: Ilan, un ciseau de haute voltige (PSG - Saint-Étienne 2007)', 'description': \"Le 25\\xa0février, au Parc des Princes, l'attaquant stéphanois concrétise <i>«\\xa0un pari un peu fou\\xa0»</i> avec son agent en marquant\\xa0le plus beau but de la saison en L1. Décryptage animé et commenté.\", 'url': 'https://www.lequipe.fr/Football/Actualites/Les-plus-beaux-buts-redessines-7-ilan-un-ciseau-de-haute-voltige-psg-saint-etienne-2007/1242507', 'urlToImage': 'https://medias.lequipe.fr/img-video-cover/1500000001476233/640/0', 'publishedAt': '2021-04-16T10:00:00+00:00', 'content': \"Tout est parti d'un pari avec son agent. Ilan avait écrit le scénario d'avance. Ce 25\\xa0février 2007, il était dit que l'attaquant brésilien signerait un bijou. Le plus brillant, le mieux ciselé de la … [+270 chars]\"}, {'source': {'id': 'lequipe', 'name': \"L'equipe\"}, 'author': \"L'EQUIPE\", 'title': 'Karim Benzema va prolonger son contrat au Real Madrid', 'description': \"Comme révélé par «\\xa0Marca\\xa0», Karim Benzema est tout proche de trouver un accord avec le Real Madrid pour prolonger son contrat d'une saison supplémentaire, jusqu'en 2023.\", 'url': 'https://www.lequipe.fr/Football/Actualites/Karim-benzema-va-prolonger-son-contrat-au-real-madrid/1243107', 'urlToImage': 'https://medias.lequipe.fr/img-photo-jpg/karim-benzema-a-marque-19-buts-cette-saison-en-liga-oscar-j-barroso-afp7-presse-sports/1500000001476283/5:160,1676:1274-640-427-75/eb8d6.jpg', 'publishedAt': '2021-04-16T09:50:00+00:00', 'content': \"Auteur de 25 buts en 35 matches toutes compétitions confondues cette saison, Karim Benzema est plus que jamais le leader d'attaque du Real Madrid. Ses performances autant en Liga qu'en Ligue des cham… [+660 chars]\"}, {'source': {'id': 'lequipe', 'name': \"L'equipe\"}, 'author': \"L'EQUIPE\", 'title': 'La Copa America se jouera «\\xa0avec ou sans public\\xa0» selon le ministre des Sports colombien', 'description': 'Le ministre des Sports colombiens a déclaré ce jeudi que la Copa America se déroulerait comme prévu du 13\\xa0juin au 10\\xa0juillet conjointement en Argentine et en Colombie.', 'url': 'https://www.lequipe.fr/Football/Actualites/La-copa-america-se-jouera-avec-ou-sans-public-selon-le-ministre-des-sports-colombien/1243105', 'urlToImage': 'https://medias.lequipe.fr/img-photo-jpg/la-copa-america-avec-ou-sans-public-m-zambrana-agif-presse-sports/1500000001476282/0:0,1997:1331-640-427-75/4afa2.jpg', 'publishedAt': '2021-04-16T09:47:00+00:00', 'content': \"La Copa America se jouera «\\xa0avec ou sans public\\xa0», qu'importe l'évolution du Covid-19 en Amérique du Sud, a jugé jeudi le ministre colombien des Sports, après des propos moins optimistes du président… [+1195 chars]\"}, {'source': {'id': 'lequipe', 'name': \"L'equipe\"}, 'author': \"L'EQUIPE\", 'title': \"Le nouveau tracé de l'E-Prix de Monaco dévoilé\", 'description': \"La Formule E, la FIA et l'Automobile Club de Monaco (ACM) ont dévoilé vendredi le nouveau tracé de l'E-Prix de Monaco 2021 prévu le 8\\xa0mai prochain.\", 'url': 'https://www.lequipe.fr/Formule-e/Actualites/Le-nouveau-trace-de-l-e-prix-de-monaco-devoile/1243103', 'urlToImage': 'https://medias.lequipe.fr/img-photo-jpg/le-trace-de-l-e-prix-de-monaco-2021-a-ete-devoile-fiaformulae/1500000001476281/0:0,1278:852-640-427-75/6cbd2.jpg', 'publishedAt': '2021-04-16T09:47:00+00:00', 'content': 'La piste de dix-neuf virages et de 3,32 kilomètres verra les voitures monter la colline après le premier virage à Sainte Dévote. Elle comprendra des virages emblématiques, notamment la place du Casin… [+73 chars]'}, {'source': {'id': 'lequipe', 'name': \"L'equipe\"}, 'author': \"L'EQUIPE\", 'title': 'La saison de Ligue de Diamant débutera bien à Gateshead le 23\\xa0mai', 'description': \"Le meeting de Rabat (Maroc) n'aura pas lieu en raison de la situation sanitaire, et la saison de Ligue de Diamant s'ouvrira donc le 23\\xa0mai à Gateshead (Angleterre).\", 'url': 'https://www.lequipe.fr/Athletisme/Actualites/La-saison-de-ligue-de-diamant-debutera-bien-a-gateshead-le-23-mai/1243102', 'urlToImage': 'https://medias.lequipe.fr/img-photo-jpg/on-pourrait-voir-mo-farah-le-23-mai-a-gateshead-s-boue-l-equipe/1500000001476280/0:0,1995:1330-640-427-75/53b97.jpg', 'publishedAt': '2021-04-16T09:47:00+00:00', 'content': \"Comme la presse anglaise le laissait entendre jeudi, le meeting de Rabat (Maroc) qui devait ouvrir la saison de Ligue de Diamant le 23\\xa0mai n'aura pas lieu en raison de la situation sanitaire, et sera… [+79 chars]\"}, {'source': {'id': 'lequipe', 'name': \"L'equipe\"}, 'author': \"L'EQUIPE\", 'title': 'Emma McKeon et Cate Campbell règnent sur le 100m', 'description': 'Cate Campbell et Emma McKeon ont pris la tête des bilans mondiaux sur 100m lors des sélections olympiques australiennes.', 'url': 'https://www.lequipe.fr/Natation/Actualites/Emma-mckeon-et-cate-campbell-regnent-sur-le-100m/1243098', 'urlToImage': 'https://medias.lequipe.fr/img-photo-jpg/battue-en-finale-cate-campbell-est-tout-de-meme-la-plus-rapide-de-l-annee-sur-100m-r-martin-l-eq/1500000001476276/161:309,1688:1327-640-427-75/2e967.jpg', 'publishedAt': '2021-04-16T09:38:00+00:00', 'content': \"Sur le 100m hommes, le champion olympique de Rio Kyle Chalmers n'a pas trouvé de rivaux pour s'imposer en 48''04 (48''11 en série), ce qui le positionne au sixième rang des bilans toujours écrasés pa… [+273 chars]\"}, {'source': {'id': 'lequipe', 'name': \"L'equipe\"}, 'author': \"L'EQUIPE\", 'title': 'WTA : qui sera la meilleure terrienne de la saison ?', 'description': \"Alors que la saison européenne sur terre battue s'ouvre pour les femmes au tournoi de Stuttgart (19-25 avril), on évalue les chances d'y briller des nouvelles terreurs du circuit.\", 'url': 'https://www.lequipe.fr/Tennis/Actualites/Wta-qui-sera-la-meilleure-terrienne/1243019', 'urlToImage': 'https://medias.lequipe.fr/img-photo-jpg/-sebastien-boue-l-equipe/1500000001476206/0:0,917:611-640-427-75/251cd.jpg', 'publishedAt': '2021-04-16T09:30:00+00:00', 'content': \"Mieux cotée sur dur, Ashleigh Barty avait surpris son monde (elle en premier) en chipant Roland-Garros en 2019. Depuis, la numéro 1 mondiale, forfait pour l'édition 2020, ne compte que trois matches … [+298 chars]\"}, {'source': {'id': 'lequipe', 'name': \"L'equipe\"}, 'author': \"L'EQUIPE\", 'title': 'Eliott Roudil (Pau), avant la réception de Bayonne\\xa0: «\\xa0Tous conscients de la situation du club\\xa0»', 'description': 'Eliott Roudil, le centre de Pau, insiste sur le besoin crucial pour la Section de battre Bayonne ce vendredi soir (20h45) dans un match capital pour le maintien.', 'url': 'https://www.lequipe.fr/Rugby/Actualites/Eliott-roudil-pau-avant-la-reception-de-bayonne-tous-conscients-de-la-situation-du-club/1243097', 'urlToImage': 'https://medias.lequipe.fr/img-photo-jpg/eliott-roudil-ballon-en-main-face-a-bayonne-en-match-amical-l-ete-dernier-r-perrocheau-l-equipe/1500000001476275/0:0,1998:1332-640-427-75/1b21f.jpg', 'publishedAt': '2021-04-16T09:29:00+00:00', 'content': \"«\\xa0Comment la Section aborde-t-elle ce match à l'enjeu tellement important face à Bayonne\\xa0?Déjà c'est un derby, un match avec beaucoup d'histoires, de respect aussi. Mais l'enjeu, l'aspect comptable, … [+1996 chars]\"}, {'source': {'id': 'lequipe', 'name': \"L'equipe\"}, 'author': \"L'EQUIPE\", 'title': 'Adrian Boothroyd va quitter son poste de sélectionneur des Espoirs anglais', 'description': \"Après l'élimination de l'Angleterre en phase de groupes de l'Euro Espoirs, son sélectionneur Adrian Boothroyd a annoncé ce vendredi qu'il allait bientôt se retirer.\", 'url': 'https://www.lequipe.fr/Football/Actualites/Adrian-boothroyd-va-quitter-son-poste-de-selectionneur-des-espoirs-anglais/1243094', 'urlToImage': 'https://medias.lequipe.fr/img-photo-jpg/adrian-boothroyd-a-annonce-son-depart-de-la-federation-anglaise-f-faugere-l-equipe/1500000001476272/211:140,1786:1191-640-427-75/3b0b1.jpg', 'publishedAt': '2021-04-16T09:17:00+00:00', 'content': \"À la tête des Espoirs anglais depuis 2016, Adrian Boothroyd s'apprête à quitter ses fonctions. Le technicien (50 ans) a annoncé ce vendredi qu'il ne prolongerait pas son contrat, lequel arrive à son … [+745 chars]\"}, {'source': {'id': 'lequipe', 'name': \"L'equipe\"}, 'author': \"L'EQUIPE\", 'title': \"Cinq raisons de suivre la saison de Coupe du monde d'escalade\", 'description': \"La Coupe du monde d'escalade débute ce vendredi, en Suisse, à Meiringen, avec une première manche de bloc. Au menu cette saison\\xa0: 12 étapes, dans 8 pays. Voici 5 bonnes raisons de suivre le circuit mondial.\", 'url': 'https://www.lequipe.fr/Adrenaline/Escalade/Actualites/5-raisons-de-suivre-la-saison-de-coupe-du-monde-d-escalade/1242556', 'urlToImage': 'https://medias.lequipe.fr/img-photo-jpg/julia-chanourdie-et-fanny-gibert-font-partie-des-leaders-de-l-equipe-de-france-d-escalade-s-mante/1500000001475608/0:0,1998:1332-640-427-75/a3d76.jpg', 'publishedAt': '2021-04-16T09:15:00+00:00', 'content': 'Les frères Mawem, Bassa (double vainqueur de la Coupe du monde de vitesse en titre) et Mickaël, Julia Chanourdie et Anouck Jaubert, les quatre Bleus qualifiés pour les JO ne feront sûrement pas toute… [+429 chars]'}]}\n"
     ]
    }
   ],
   "source": [
    "import requests\n",
    "key='73bbb95f8ecb49b499113a46481b4af1'\n",
    "url ='https://newsapi.org/v2/top-headlines?sources=lequipe&apiKey='+key\n",
    "response = requests.get(url)\n",
    "\n",
    "# Here the response format is a json file, it is used as a dictionary\n",
    "\n",
    "print (response.json())"
   ]
  },
  {
   "cell_type": "code",
   "execution_count": 38,
   "metadata": {},
   "outputs": [
    {
     "name": "stdout",
     "output_type": "stream",
     "text": [
      "dict_keys(['status', 'totalResults', 'articles'])\n"
     ]
    }
   ],
   "source": [
    "dic=response.json()\n",
    "print(dic.keys())"
   ]
  },
  {
   "cell_type": "code",
   "execution_count": 39,
   "metadata": {
    "scrolled": true
   },
   "outputs": [
    {
     "name": "stdout",
     "output_type": "stream",
     "text": [
      "##############################################\n",
      "clé:  status // values:  ok\n",
      "##############################################\n",
      "clé:  totalResults // values:  10\n",
      "##############################################\n",
      "clé:  articles // values:  [{'source': {'id': 'lequipe', 'name': \"L'equipe\"}, 'author': \"L'EQUIPE\", 'title': 'Les plus beaux buts redessinés #7\\xa0: Ilan, un ciseau de haute voltige (PSG - Saint-Étienne 2007)', 'description': \"Le 25\\xa0février, au Parc des Princes, l'attaquant stéphanois concrétise <i>«\\xa0un pari un peu fou\\xa0»</i> avec son agent en marquant\\xa0le plus beau but de la saison en L1. Décryptage animé et commenté.\", 'url': 'https://www.lequipe.fr/Football/Actualites/Les-plus-beaux-buts-redessines-7-ilan-un-ciseau-de-haute-voltige-psg-saint-etienne-2007/1242507', 'urlToImage': 'https://medias.lequipe.fr/img-video-cover/1500000001476233/640/0', 'publishedAt': '2021-04-16T10:00:00+00:00', 'content': \"Tout est parti d'un pari avec son agent. Ilan avait écrit le scénario d'avance. Ce 25\\xa0février 2007, il était dit que l'attaquant brésilien signerait un bijou. Le plus brillant, le mieux ciselé de la … [+270 chars]\"}, {'source': {'id': 'lequipe', 'name': \"L'equipe\"}, 'author': \"L'EQUIPE\", 'title': 'Karim Benzema va prolonger son contrat au Real Madrid', 'description': \"Comme révélé par «\\xa0Marca\\xa0», Karim Benzema est tout proche de trouver un accord avec le Real Madrid pour prolonger son contrat d'une saison supplémentaire, jusqu'en 2023.\", 'url': 'https://www.lequipe.fr/Football/Actualites/Karim-benzema-va-prolonger-son-contrat-au-real-madrid/1243107', 'urlToImage': 'https://medias.lequipe.fr/img-photo-jpg/karim-benzema-a-marque-19-buts-cette-saison-en-liga-oscar-j-barroso-afp7-presse-sports/1500000001476283/5:160,1676:1274-640-427-75/eb8d6.jpg', 'publishedAt': '2021-04-16T09:50:00+00:00', 'content': \"Auteur de 25 buts en 35 matches toutes compétitions confondues cette saison, Karim Benzema est plus que jamais le leader d'attaque du Real Madrid. Ses performances autant en Liga qu'en Ligue des cham… [+660 chars]\"}, {'source': {'id': 'lequipe', 'name': \"L'equipe\"}, 'author': \"L'EQUIPE\", 'title': 'La Copa America se jouera «\\xa0avec ou sans public\\xa0» selon le ministre des Sports colombien', 'description': 'Le ministre des Sports colombiens a déclaré ce jeudi que la Copa America se déroulerait comme prévu du 13\\xa0juin au 10\\xa0juillet conjointement en Argentine et en Colombie.', 'url': 'https://www.lequipe.fr/Football/Actualites/La-copa-america-se-jouera-avec-ou-sans-public-selon-le-ministre-des-sports-colombien/1243105', 'urlToImage': 'https://medias.lequipe.fr/img-photo-jpg/la-copa-america-avec-ou-sans-public-m-zambrana-agif-presse-sports/1500000001476282/0:0,1997:1331-640-427-75/4afa2.jpg', 'publishedAt': '2021-04-16T09:47:00+00:00', 'content': \"La Copa America se jouera «\\xa0avec ou sans public\\xa0», qu'importe l'évolution du Covid-19 en Amérique du Sud, a jugé jeudi le ministre colombien des Sports, après des propos moins optimistes du président… [+1195 chars]\"}, {'source': {'id': 'lequipe', 'name': \"L'equipe\"}, 'author': \"L'EQUIPE\", 'title': \"Le nouveau tracé de l'E-Prix de Monaco dévoilé\", 'description': \"La Formule E, la FIA et l'Automobile Club de Monaco (ACM) ont dévoilé vendredi le nouveau tracé de l'E-Prix de Monaco 2021 prévu le 8\\xa0mai prochain.\", 'url': 'https://www.lequipe.fr/Formule-e/Actualites/Le-nouveau-trace-de-l-e-prix-de-monaco-devoile/1243103', 'urlToImage': 'https://medias.lequipe.fr/img-photo-jpg/le-trace-de-l-e-prix-de-monaco-2021-a-ete-devoile-fiaformulae/1500000001476281/0:0,1278:852-640-427-75/6cbd2.jpg', 'publishedAt': '2021-04-16T09:47:00+00:00', 'content': 'La piste de dix-neuf virages et de 3,32 kilomètres verra les voitures monter la colline après le premier virage à Sainte Dévote. Elle comprendra des virages emblématiques, notamment la place du Casin… [+73 chars]'}, {'source': {'id': 'lequipe', 'name': \"L'equipe\"}, 'author': \"L'EQUIPE\", 'title': 'La saison de Ligue de Diamant débutera bien à Gateshead le 23\\xa0mai', 'description': \"Le meeting de Rabat (Maroc) n'aura pas lieu en raison de la situation sanitaire, et la saison de Ligue de Diamant s'ouvrira donc le 23\\xa0mai à Gateshead (Angleterre).\", 'url': 'https://www.lequipe.fr/Athletisme/Actualites/La-saison-de-ligue-de-diamant-debutera-bien-a-gateshead-le-23-mai/1243102', 'urlToImage': 'https://medias.lequipe.fr/img-photo-jpg/on-pourrait-voir-mo-farah-le-23-mai-a-gateshead-s-boue-l-equipe/1500000001476280/0:0,1995:1330-640-427-75/53b97.jpg', 'publishedAt': '2021-04-16T09:47:00+00:00', 'content': \"Comme la presse anglaise le laissait entendre jeudi, le meeting de Rabat (Maroc) qui devait ouvrir la saison de Ligue de Diamant le 23\\xa0mai n'aura pas lieu en raison de la situation sanitaire, et sera… [+79 chars]\"}, {'source': {'id': 'lequipe', 'name': \"L'equipe\"}, 'author': \"L'EQUIPE\", 'title': 'Emma McKeon et Cate Campbell règnent sur le 100m', 'description': 'Cate Campbell et Emma McKeon ont pris la tête des bilans mondiaux sur 100m lors des sélections olympiques australiennes.', 'url': 'https://www.lequipe.fr/Natation/Actualites/Emma-mckeon-et-cate-campbell-regnent-sur-le-100m/1243098', 'urlToImage': 'https://medias.lequipe.fr/img-photo-jpg/battue-en-finale-cate-campbell-est-tout-de-meme-la-plus-rapide-de-l-annee-sur-100m-r-martin-l-eq/1500000001476276/161:309,1688:1327-640-427-75/2e967.jpg', 'publishedAt': '2021-04-16T09:38:00+00:00', 'content': \"Sur le 100m hommes, le champion olympique de Rio Kyle Chalmers n'a pas trouvé de rivaux pour s'imposer en 48''04 (48''11 en série), ce qui le positionne au sixième rang des bilans toujours écrasés pa… [+273 chars]\"}, {'source': {'id': 'lequipe', 'name': \"L'equipe\"}, 'author': \"L'EQUIPE\", 'title': 'WTA : qui sera la meilleure terrienne de la saison ?', 'description': \"Alors que la saison européenne sur terre battue s'ouvre pour les femmes au tournoi de Stuttgart (19-25 avril), on évalue les chances d'y briller des nouvelles terreurs du circuit.\", 'url': 'https://www.lequipe.fr/Tennis/Actualites/Wta-qui-sera-la-meilleure-terrienne/1243019', 'urlToImage': 'https://medias.lequipe.fr/img-photo-jpg/-sebastien-boue-l-equipe/1500000001476206/0:0,917:611-640-427-75/251cd.jpg', 'publishedAt': '2021-04-16T09:30:00+00:00', 'content': \"Mieux cotée sur dur, Ashleigh Barty avait surpris son monde (elle en premier) en chipant Roland-Garros en 2019. Depuis, la numéro 1 mondiale, forfait pour l'édition 2020, ne compte que trois matches … [+298 chars]\"}, {'source': {'id': 'lequipe', 'name': \"L'equipe\"}, 'author': \"L'EQUIPE\", 'title': 'Eliott Roudil (Pau), avant la réception de Bayonne\\xa0: «\\xa0Tous conscients de la situation du club\\xa0»', 'description': 'Eliott Roudil, le centre de Pau, insiste sur le besoin crucial pour la Section de battre Bayonne ce vendredi soir (20h45) dans un match capital pour le maintien.', 'url': 'https://www.lequipe.fr/Rugby/Actualites/Eliott-roudil-pau-avant-la-reception-de-bayonne-tous-conscients-de-la-situation-du-club/1243097', 'urlToImage': 'https://medias.lequipe.fr/img-photo-jpg/eliott-roudil-ballon-en-main-face-a-bayonne-en-match-amical-l-ete-dernier-r-perrocheau-l-equipe/1500000001476275/0:0,1998:1332-640-427-75/1b21f.jpg', 'publishedAt': '2021-04-16T09:29:00+00:00', 'content': \"«\\xa0Comment la Section aborde-t-elle ce match à l'enjeu tellement important face à Bayonne\\xa0?Déjà c'est un derby, un match avec beaucoup d'histoires, de respect aussi. Mais l'enjeu, l'aspect comptable, … [+1996 chars]\"}, {'source': {'id': 'lequipe', 'name': \"L'equipe\"}, 'author': \"L'EQUIPE\", 'title': 'Adrian Boothroyd va quitter son poste de sélectionneur des Espoirs anglais', 'description': \"Après l'élimination de l'Angleterre en phase de groupes de l'Euro Espoirs, son sélectionneur Adrian Boothroyd a annoncé ce vendredi qu'il allait bientôt se retirer.\", 'url': 'https://www.lequipe.fr/Football/Actualites/Adrian-boothroyd-va-quitter-son-poste-de-selectionneur-des-espoirs-anglais/1243094', 'urlToImage': 'https://medias.lequipe.fr/img-photo-jpg/adrian-boothroyd-a-annonce-son-depart-de-la-federation-anglaise-f-faugere-l-equipe/1500000001476272/211:140,1786:1191-640-427-75/3b0b1.jpg', 'publishedAt': '2021-04-16T09:17:00+00:00', 'content': \"À la tête des Espoirs anglais depuis 2016, Adrian Boothroyd s'apprête à quitter ses fonctions. Le technicien (50 ans) a annoncé ce vendredi qu'il ne prolongerait pas son contrat, lequel arrive à son … [+745 chars]\"}, {'source': {'id': 'lequipe', 'name': \"L'equipe\"}, 'author': \"L'EQUIPE\", 'title': \"Cinq raisons de suivre la saison de Coupe du monde d'escalade\", 'description': \"La Coupe du monde d'escalade débute ce vendredi, en Suisse, à Meiringen, avec une première manche de bloc. Au menu cette saison\\xa0: 12 étapes, dans 8 pays. Voici 5 bonnes raisons de suivre le circuit mondial.\", 'url': 'https://www.lequipe.fr/Adrenaline/Escalade/Actualites/5-raisons-de-suivre-la-saison-de-coupe-du-monde-d-escalade/1242556', 'urlToImage': 'https://medias.lequipe.fr/img-photo-jpg/julia-chanourdie-et-fanny-gibert-font-partie-des-leaders-de-l-equipe-de-france-d-escalade-s-mante/1500000001475608/0:0,1998:1332-640-427-75/a3d76.jpg', 'publishedAt': '2021-04-16T09:15:00+00:00', 'content': 'Les frères Mawem, Bassa (double vainqueur de la Coupe du monde de vitesse en titre) et Mickaël, Julia Chanourdie et Anouck Jaubert, les quatre Bleus qualifiés pour les JO ne feront sûrement pas toute… [+429 chars]'}]\n"
     ]
    }
   ],
   "source": [
    "for elem in list(dic.keys()):\n",
    "    print('##############################################')\n",
    "    print(\"clé: \",elem,\"// values: \", dic[elem])"
   ]
  },
  {
   "cell_type": "code",
   "execution_count": 40,
   "metadata": {
    "scrolled": true
   },
   "outputs": [
    {
     "name": "stdout",
     "output_type": "stream",
     "text": [
      "###############################################\n",
      "(0, {'source': {'id': 'lequipe', 'name': \"L'equipe\"}, 'author': \"L'EQUIPE\", 'title': 'Les plus beaux buts redessinés #7\\xa0: Ilan, un ciseau de haute voltige (PSG - Saint-Étienne 2007)', 'description': \"Le 25\\xa0février, au Parc des Princes, l'attaquant stéphanois concrétise <i>«\\xa0un pari un peu fou\\xa0»</i> avec son agent en marquant\\xa0le plus beau but de la saison en L1. Décryptage animé et commenté.\", 'url': 'https://www.lequipe.fr/Football/Actualites/Les-plus-beaux-buts-redessines-7-ilan-un-ciseau-de-haute-voltige-psg-saint-etienne-2007/1242507', 'urlToImage': 'https://medias.lequipe.fr/img-video-cover/1500000001476233/640/0', 'publishedAt': '2021-04-16T10:00:00+00:00', 'content': \"Tout est parti d'un pari avec son agent. Ilan avait écrit le scénario d'avance. Ce 25\\xa0février 2007, il était dit que l'attaquant brésilien signerait un bijou. Le plus brillant, le mieux ciselé de la … [+270 chars]\"})\n",
      "###############################################\n",
      "(1, {'source': {'id': 'lequipe', 'name': \"L'equipe\"}, 'author': \"L'EQUIPE\", 'title': 'Karim Benzema va prolonger son contrat au Real Madrid', 'description': \"Comme révélé par «\\xa0Marca\\xa0», Karim Benzema est tout proche de trouver un accord avec le Real Madrid pour prolonger son contrat d'une saison supplémentaire, jusqu'en 2023.\", 'url': 'https://www.lequipe.fr/Football/Actualites/Karim-benzema-va-prolonger-son-contrat-au-real-madrid/1243107', 'urlToImage': 'https://medias.lequipe.fr/img-photo-jpg/karim-benzema-a-marque-19-buts-cette-saison-en-liga-oscar-j-barroso-afp7-presse-sports/1500000001476283/5:160,1676:1274-640-427-75/eb8d6.jpg', 'publishedAt': '2021-04-16T09:50:00+00:00', 'content': \"Auteur de 25 buts en 35 matches toutes compétitions confondues cette saison, Karim Benzema est plus que jamais le leader d'attaque du Real Madrid. Ses performances autant en Liga qu'en Ligue des cham… [+660 chars]\"})\n",
      "###############################################\n",
      "(2, {'source': {'id': 'lequipe', 'name': \"L'equipe\"}, 'author': \"L'EQUIPE\", 'title': 'La Copa America se jouera «\\xa0avec ou sans public\\xa0» selon le ministre des Sports colombien', 'description': 'Le ministre des Sports colombiens a déclaré ce jeudi que la Copa America se déroulerait comme prévu du 13\\xa0juin au 10\\xa0juillet conjointement en Argentine et en Colombie.', 'url': 'https://www.lequipe.fr/Football/Actualites/La-copa-america-se-jouera-avec-ou-sans-public-selon-le-ministre-des-sports-colombien/1243105', 'urlToImage': 'https://medias.lequipe.fr/img-photo-jpg/la-copa-america-avec-ou-sans-public-m-zambrana-agif-presse-sports/1500000001476282/0:0,1997:1331-640-427-75/4afa2.jpg', 'publishedAt': '2021-04-16T09:47:00+00:00', 'content': \"La Copa America se jouera «\\xa0avec ou sans public\\xa0», qu'importe l'évolution du Covid-19 en Amérique du Sud, a jugé jeudi le ministre colombien des Sports, après des propos moins optimistes du président… [+1195 chars]\"})\n",
      "###############################################\n",
      "(3, {'source': {'id': 'lequipe', 'name': \"L'equipe\"}, 'author': \"L'EQUIPE\", 'title': \"Le nouveau tracé de l'E-Prix de Monaco dévoilé\", 'description': \"La Formule E, la FIA et l'Automobile Club de Monaco (ACM) ont dévoilé vendredi le nouveau tracé de l'E-Prix de Monaco 2021 prévu le 8\\xa0mai prochain.\", 'url': 'https://www.lequipe.fr/Formule-e/Actualites/Le-nouveau-trace-de-l-e-prix-de-monaco-devoile/1243103', 'urlToImage': 'https://medias.lequipe.fr/img-photo-jpg/le-trace-de-l-e-prix-de-monaco-2021-a-ete-devoile-fiaformulae/1500000001476281/0:0,1278:852-640-427-75/6cbd2.jpg', 'publishedAt': '2021-04-16T09:47:00+00:00', 'content': 'La piste de dix-neuf virages et de 3,32 kilomètres verra les voitures monter la colline après le premier virage à Sainte Dévote. Elle comprendra des virages emblématiques, notamment la place du Casin… [+73 chars]'})\n",
      "###############################################\n",
      "(4, {'source': {'id': 'lequipe', 'name': \"L'equipe\"}, 'author': \"L'EQUIPE\", 'title': 'La saison de Ligue de Diamant débutera bien à Gateshead le 23\\xa0mai', 'description': \"Le meeting de Rabat (Maroc) n'aura pas lieu en raison de la situation sanitaire, et la saison de Ligue de Diamant s'ouvrira donc le 23\\xa0mai à Gateshead (Angleterre).\", 'url': 'https://www.lequipe.fr/Athletisme/Actualites/La-saison-de-ligue-de-diamant-debutera-bien-a-gateshead-le-23-mai/1243102', 'urlToImage': 'https://medias.lequipe.fr/img-photo-jpg/on-pourrait-voir-mo-farah-le-23-mai-a-gateshead-s-boue-l-equipe/1500000001476280/0:0,1995:1330-640-427-75/53b97.jpg', 'publishedAt': '2021-04-16T09:47:00+00:00', 'content': \"Comme la presse anglaise le laissait entendre jeudi, le meeting de Rabat (Maroc) qui devait ouvrir la saison de Ligue de Diamant le 23\\xa0mai n'aura pas lieu en raison de la situation sanitaire, et sera… [+79 chars]\"})\n",
      "###############################################\n",
      "(5, {'source': {'id': 'lequipe', 'name': \"L'equipe\"}, 'author': \"L'EQUIPE\", 'title': 'Emma McKeon et Cate Campbell règnent sur le 100m', 'description': 'Cate Campbell et Emma McKeon ont pris la tête des bilans mondiaux sur 100m lors des sélections olympiques australiennes.', 'url': 'https://www.lequipe.fr/Natation/Actualites/Emma-mckeon-et-cate-campbell-regnent-sur-le-100m/1243098', 'urlToImage': 'https://medias.lequipe.fr/img-photo-jpg/battue-en-finale-cate-campbell-est-tout-de-meme-la-plus-rapide-de-l-annee-sur-100m-r-martin-l-eq/1500000001476276/161:309,1688:1327-640-427-75/2e967.jpg', 'publishedAt': '2021-04-16T09:38:00+00:00', 'content': \"Sur le 100m hommes, le champion olympique de Rio Kyle Chalmers n'a pas trouvé de rivaux pour s'imposer en 48''04 (48''11 en série), ce qui le positionne au sixième rang des bilans toujours écrasés pa… [+273 chars]\"})\n",
      "###############################################\n",
      "(6, {'source': {'id': 'lequipe', 'name': \"L'equipe\"}, 'author': \"L'EQUIPE\", 'title': 'WTA : qui sera la meilleure terrienne de la saison ?', 'description': \"Alors que la saison européenne sur terre battue s'ouvre pour les femmes au tournoi de Stuttgart (19-25 avril), on évalue les chances d'y briller des nouvelles terreurs du circuit.\", 'url': 'https://www.lequipe.fr/Tennis/Actualites/Wta-qui-sera-la-meilleure-terrienne/1243019', 'urlToImage': 'https://medias.lequipe.fr/img-photo-jpg/-sebastien-boue-l-equipe/1500000001476206/0:0,917:611-640-427-75/251cd.jpg', 'publishedAt': '2021-04-16T09:30:00+00:00', 'content': \"Mieux cotée sur dur, Ashleigh Barty avait surpris son monde (elle en premier) en chipant Roland-Garros en 2019. Depuis, la numéro 1 mondiale, forfait pour l'édition 2020, ne compte que trois matches … [+298 chars]\"})\n",
      "###############################################\n",
      "(7, {'source': {'id': 'lequipe', 'name': \"L'equipe\"}, 'author': \"L'EQUIPE\", 'title': 'Eliott Roudil (Pau), avant la réception de Bayonne\\xa0: «\\xa0Tous conscients de la situation du club\\xa0»', 'description': 'Eliott Roudil, le centre de Pau, insiste sur le besoin crucial pour la Section de battre Bayonne ce vendredi soir (20h45) dans un match capital pour le maintien.', 'url': 'https://www.lequipe.fr/Rugby/Actualites/Eliott-roudil-pau-avant-la-reception-de-bayonne-tous-conscients-de-la-situation-du-club/1243097', 'urlToImage': 'https://medias.lequipe.fr/img-photo-jpg/eliott-roudil-ballon-en-main-face-a-bayonne-en-match-amical-l-ete-dernier-r-perrocheau-l-equipe/1500000001476275/0:0,1998:1332-640-427-75/1b21f.jpg', 'publishedAt': '2021-04-16T09:29:00+00:00', 'content': \"«\\xa0Comment la Section aborde-t-elle ce match à l'enjeu tellement important face à Bayonne\\xa0?Déjà c'est un derby, un match avec beaucoup d'histoires, de respect aussi. Mais l'enjeu, l'aspect comptable, … [+1996 chars]\"})\n",
      "###############################################\n",
      "(8, {'source': {'id': 'lequipe', 'name': \"L'equipe\"}, 'author': \"L'EQUIPE\", 'title': 'Adrian Boothroyd va quitter son poste de sélectionneur des Espoirs anglais', 'description': \"Après l'élimination de l'Angleterre en phase de groupes de l'Euro Espoirs, son sélectionneur Adrian Boothroyd a annoncé ce vendredi qu'il allait bientôt se retirer.\", 'url': 'https://www.lequipe.fr/Football/Actualites/Adrian-boothroyd-va-quitter-son-poste-de-selectionneur-des-espoirs-anglais/1243094', 'urlToImage': 'https://medias.lequipe.fr/img-photo-jpg/adrian-boothroyd-a-annonce-son-depart-de-la-federation-anglaise-f-faugere-l-equipe/1500000001476272/211:140,1786:1191-640-427-75/3b0b1.jpg', 'publishedAt': '2021-04-16T09:17:00+00:00', 'content': \"À la tête des Espoirs anglais depuis 2016, Adrian Boothroyd s'apprête à quitter ses fonctions. Le technicien (50 ans) a annoncé ce vendredi qu'il ne prolongerait pas son contrat, lequel arrive à son … [+745 chars]\"})\n",
      "###############################################\n",
      "(9, {'source': {'id': 'lequipe', 'name': \"L'equipe\"}, 'author': \"L'EQUIPE\", 'title': \"Cinq raisons de suivre la saison de Coupe du monde d'escalade\", 'description': \"La Coupe du monde d'escalade débute ce vendredi, en Suisse, à Meiringen, avec une première manche de bloc. Au menu cette saison\\xa0: 12 étapes, dans 8 pays. Voici 5 bonnes raisons de suivre le circuit mondial.\", 'url': 'https://www.lequipe.fr/Adrenaline/Escalade/Actualites/5-raisons-de-suivre-la-saison-de-coupe-du-monde-d-escalade/1242556', 'urlToImage': 'https://medias.lequipe.fr/img-photo-jpg/julia-chanourdie-et-fanny-gibert-font-partie-des-leaders-de-l-equipe-de-france-d-escalade-s-mante/1500000001475608/0:0,1998:1332-640-427-75/a3d76.jpg', 'publishedAt': '2021-04-16T09:15:00+00:00', 'content': 'Les frères Mawem, Bassa (double vainqueur de la Coupe du monde de vitesse en titre) et Mickaël, Julia Chanourdie et Anouck Jaubert, les quatre Bleus qualifiés pour les JO ne feront sûrement pas toute… [+429 chars]'})\n"
     ]
    }
   ],
   "source": [
    "# And now we have lists in dictionaries it's json but it's always the same thing\n",
    "# We will discover the information of the article key\n",
    "for elem in enumerate(dic['articles']):\n",
    "    print('###############################################')\n",
    "    print(elem)"
   ]
  },
  {
   "cell_type": "code",
   "execution_count": 41,
   "metadata": {},
   "outputs": [
    {
     "name": "stdout",
     "output_type": "stream",
     "text": [
      " Key :  source Values :  {'id': 'lequipe', 'name': \"L'equipe\"}\n",
      " Key :  author Values :  L'EQUIPE\n",
      " Key :  title Values :  Les plus beaux buts redessinés #7 : Ilan, un ciseau de haute voltige (PSG - Saint-Étienne 2007)\n",
      " Key :  description Values :  Le 25 février, au Parc des Princes, l'attaquant stéphanois concrétise <i>« un pari un peu fou »</i> avec son agent en marquant le plus beau but de la saison en L1. Décryptage animé et commenté.\n",
      " Key :  url Values :  https://www.lequipe.fr/Football/Actualites/Les-plus-beaux-buts-redessines-7-ilan-un-ciseau-de-haute-voltige-psg-saint-etienne-2007/1242507\n",
      " Key :  urlToImage Values :  https://medias.lequipe.fr/img-video-cover/1500000001476233/640/0\n",
      " Key :  publishedAt Values :  2021-04-16T10:00:00+00:00\n",
      " Key :  content Values :  Tout est parti d'un pari avec son agent. Ilan avait écrit le scénario d'avance. Ce 25 février 2007, il était dit que l'attaquant brésilien signerait un bijou. Le plus brillant, le mieux ciselé de la … [+270 chars]\n"
     ]
    }
   ],
   "source": [
    "# So if we keep going, it gives us another dictionary!\n",
    "for elem in dic['articles'][0].keys():\n",
    "    print(' Key : ',elem,'Values : ',dic['articles'][0][elem])"
   ]
  },
  {
   "cell_type": "markdown",
   "metadata": {},
   "source": [
    "### Make a script that allows you to take details of the last ten news from the team or another site. Store them in a nice csv or excel file"
   ]
  },
  {
   "cell_type": "code",
   "execution_count": 44,
   "metadata": {},
   "outputs": [
    {
     "name": "stdout",
     "output_type": "stream",
     "text": [
      "Tout est parti d'un pari avec son agent. Ilan avait écrit le scénario d'avance. Ce 25 février 2007, il était dit que l'attaquant brésilien signerait un bijou. Le plus brillant, le mieux ciselé de la … [+270 chars]\n",
      "##################################\n",
      "Auteur de 25 buts en 35 matches toutes compétitions confondues cette saison, Karim Benzema est plus que jamais le leader d'attaque du Real Madrid. Ses performances autant en Liga qu'en Ligue des cham… [+660 chars]\n",
      "##################################\n",
      "La Copa America se jouera « avec ou sans public », qu'importe l'évolution du Covid-19 en Amérique du Sud, a jugé jeudi le ministre colombien des Sports, après des propos moins optimistes du président… [+1195 chars]\n",
      "##################################\n",
      "La piste de dix-neuf virages et de 3,32 kilomètres verra les voitures monter la colline après le premier virage à Sainte Dévote. Elle comprendra des virages emblématiques, notamment la place du Casin… [+73 chars]\n",
      "##################################\n",
      "Comme la presse anglaise le laissait entendre jeudi, le meeting de Rabat (Maroc) qui devait ouvrir la saison de Ligue de Diamant le 23 mai n'aura pas lieu en raison de la situation sanitaire, et sera… [+79 chars]\n",
      "##################################\n",
      "Sur le 100m hommes, le champion olympique de Rio Kyle Chalmers n'a pas trouvé de rivaux pour s'imposer en 48''04 (48''11 en série), ce qui le positionne au sixième rang des bilans toujours écrasés pa… [+273 chars]\n",
      "##################################\n",
      "Mieux cotée sur dur, Ashleigh Barty avait surpris son monde (elle en premier) en chipant Roland-Garros en 2019. Depuis, la numéro 1 mondiale, forfait pour l'édition 2020, ne compte que trois matches … [+298 chars]\n",
      "##################################\n",
      "« Comment la Section aborde-t-elle ce match à l'enjeu tellement important face à Bayonne ?Déjà c'est un derby, un match avec beaucoup d'histoires, de respect aussi. Mais l'enjeu, l'aspect comptable, … [+1996 chars]\n",
      "##################################\n",
      "À la tête des Espoirs anglais depuis 2016, Adrian Boothroyd s'apprête à quitter ses fonctions. Le technicien (50 ans) a annoncé ce vendredi qu'il ne prolongerait pas son contrat, lequel arrive à son … [+745 chars]\n",
      "##################################\n",
      "Les frères Mawem, Bassa (double vainqueur de la Coupe du monde de vitesse en titre) et Mickaël, Julia Chanourdie et Anouck Jaubert, les quatre Bleus qualifiés pour les JO ne feront sûrement pas toute… [+429 chars]\n",
      "##################################\n"
     ]
    }
   ],
   "source": [
    "for elem in dic['articles'][:10]:\n",
    "    print(elem[\"content\"])\n",
    "    print(\"##################################\")"
   ]
  },
  {
   "cell_type": "code",
   "execution_count": null,
   "metadata": {},
   "outputs": [],
   "source": []
  }
 ],
 "metadata": {
  "kernelspec": {
   "display_name": "Python 3",
   "language": "python",
   "name": "python3"
  },
  "language_info": {
   "codemirror_mode": {
    "name": "ipython",
    "version": 3
   },
   "file_extension": ".py",
   "mimetype": "text/x-python",
   "name": "python",
   "nbconvert_exporter": "python",
   "pygments_lexer": "ipython3",
   "version": "3.7.10"
  }
 },
 "nbformat": 4,
 "nbformat_minor": 2
}
