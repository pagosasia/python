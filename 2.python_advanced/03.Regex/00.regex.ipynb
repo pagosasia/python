{
 "cells": [
  {
   "cell_type": "markdown",
   "metadata": {
    "colab_type": "text",
    "id": "Y2WIldGAzeGi"
   },
   "source": [
    "# Regular expressions (regex) : love or hate?"
   ]
  },
  {
   "cell_type": "markdown",
   "metadata": {},
   "source": [
    "![commit strip](http://www.commitstrip.com/wp-content/uploads/2014/02/Strips-Le-dernier-des-vrais-codeurs-650-finalenglsih.jpg)"
   ]
  },
  {
   "cell_type": "markdown",
   "metadata": {
    "colab_type": "text",
    "id": "ncgjdsP6zeGk"
   },
   "source": [
    "Regular expressions are used in almost all languages. It is a very powerful tool to check if the content of a variable has the shape of what you expect. \n",
    "\n",
    "For example, if you retrieve a phone number, you expect the variable to be composed of numbers and spaces (or dashes) but nothing more. \n",
    "\n",
    "Regular expressions not only warn you of an unwanted character but also delete/modify all those that are not desirable.\n"
   ]
  },
  {
   "cell_type": "markdown",
   "metadata": {
    "colab_type": "text",
    "id": "J9tTw4kpzeGm"
   },
   "source": [
    "**There are two ways to use regexes:**\n",
    "* The first consists in calling the function with the pattern as the first parameter, and the string to be analyzed as the second parameter.\n",
    "* The second way is to compile the regex, and then use the methods of the created object to analyze a string passed as an argument. This method speeds up processing when a regex is used several times.  "
   ]
  },
  {
   "cell_type": "code",
   "execution_count": 2,
   "metadata": {
    "colab": {},
    "colab_type": "code",
    "id": "uW-ELEWSzeGn"
   },
   "outputs": [],
   "source": [
    "import re "
   ]
  },
  {
   "cell_type": "code",
   "execution_count": 3,
   "metadata": {
    "colab": {
     "base_uri": "https://localhost:8080/",
     "height": 202
    },
    "colab_type": "code",
    "executionInfo": {
     "elapsed": 1164,
     "status": "error",
     "timestamp": 1544433890947,
     "user": {
      "displayName": "jeanmichel matz",
      "photoUrl": "",
      "userId": "07185903058039212847"
     },
     "user_tz": -60
    },
    "id": "UZH4lcDtzeGr",
    "outputId": "56f57bbf-62d5-43a6-9a8c-e625eb5f51e1"
   },
   "outputs": [
    {
     "name": "stdout",
     "output_type": "stream",
     "text": [
      "<re.Match object; span=(1, 2), match=' '>\n"
     ]
    }
   ],
   "source": [
    "pattern='[ ]'\n",
    "string ='I am fine ! There are still 6 months left :()'\n",
    "\n",
    "#Search the pattern in the past string and return a MatchObject if matches are found,\n",
    "#otherwise return None.\n",
    "print(re.search(pattern, string)) "
   ]
  },
  {
   "cell_type": "code",
   "execution_count": 4,
   "metadata": {
    "colab": {},
    "colab_type": "code",
    "id": "8CHrRMMnzeGx",
    "outputId": "7985c200-12be-4488-f07d-e67cd582be82"
   },
   "outputs": [
    {
     "name": "stdout",
     "output_type": "stream",
     "text": [
      "['I', 'am', 'fine', '!', 'There', 'are', 'still', '6', 'months', 'left', ':()']\n"
     ]
    }
   ],
   "source": [
    "pattern='[ ]'\n",
    "string ='I am fine ! There are still 6 months left :()'\n",
    "\n",
    "#Cut the string according to the occurrence of the pattern.\n",
    "print(re.split(pattern, string))"
   ]
  },
  {
   "cell_type": "markdown",
   "metadata": {
    "colab_type": "text",
    "id": "00ZYg2cezeG2"
   },
   "source": [
    "### A little syntax\n",
    "\n",
    "    [xy]  A possible segment list. Example[abc] equals: a, b or c\n",
    "\n",
    "    (x|y) Indicates a multiple choice type (ps|ump) equals \"ps\" OR \"UMP\" \n",
    "\n",
    "    \\d    the segment is composed only of numbers, which is equivalent to[0-9].\n",
    "\n",
    "    \\D    the segment is not composed of numbers, which is equivalent to[^0-9].\n",
    "\n",
    "    \\s    A space, which is equivalent to [ \\t\\n\\r\\r\\f\\v].\n",
    "\n",
    "    \\S    No space, which is equivalent to[^ ^ \\t\\n\\r\\f\\v].\n",
    "\n",
    "    \\w    Alphanumeric presence, which is equivalent to[a-zA-Z0-9_].\n",
    "\n",
    "    \\W    No alphanumeric presence[^a-zA-Z0-9_].\n",
    "\n",
    "    \\     Is an escape character"
   ]
  },
  {
   "cell_type": "markdown",
   "metadata": {
    "colab_type": "text",
    "id": "kyiLpajFzeG3"
   },
   "source": [
    "Let's try it \n",
    "\n",
    "If the answer is not None, it means the match matches. GREY is indeed a name beginning GR followed by a character and ending with Y"
   ]
  },
  {
   "cell_type": "code",
   "execution_count": 5,
   "metadata": {
    "colab": {},
    "colab_type": "code",
    "id": "d-vUiHQJzeG4",
    "outputId": "79709efc-6003-46a4-9c5e-80f9b60d7b65"
   },
   "outputs": [
    {
     "name": "stdout",
     "output_type": "stream",
     "text": [
      "<re.Match object; span=(0, 4), match='GREY'>\n"
     ]
    }
   ],
   "source": [
    "\n",
    "print(re.match(\"GR(.)?Y\", \"GREY\")) \n",
    "# (.)? means that we expect 0 or 1 character"
   ]
  },
  {
   "cell_type": "code",
   "execution_count": 6,
   "metadata": {
    "colab": {},
    "colab_type": "code",
    "id": "K8cC1TGhzeG7",
    "outputId": "3fdb669d-7e94-4b73-c292-1e5c98cedf9e"
   },
   "outputs": [
    {
     "name": "stdout",
     "output_type": "stream",
     "text": [
      "<re.Match object; span=(0, 4), match='GREY'>\n",
      "<re.Match object; span=(0, 4), match='GREY'>\n"
     ]
    }
   ],
   "source": [
    "pattern=\"GR(.)?Y\"\n",
    "string=\"GREY\"\n",
    "\n",
    "result = re.match(pattern, string)\n",
    "print(result)\n",
    "\n",
    "# It is equals to\n",
    "prog = re.compile(pattern)\n",
    "result = prog.match(string)\n",
    "print(result)"
   ]
  },
  {
   "cell_type": "code",
   "execution_count": 7,
   "metadata": {
    "colab": {},
    "colab_type": "code",
    "id": "_yNpUAH-zeG_",
    "outputId": "2c8fd1ff-90a9-4cac-f599-2f6f11bcb536"
   },
   "outputs": [
    {
     "name": "stdout",
     "output_type": "stream",
     "text": [
      "GREY 'S <re.Match object; span=(0, 4), match='GREY'>\n",
      "GRAY <re.Match object; span=(0, 4), match='GRAY'>\n",
      "GREYISH <re.Match object; span=(0, 4), match='GREY'>\n",
      "A GREY None\n"
     ]
    }
   ],
   "source": [
    "#  So in a loop the second syntax is nice\n",
    "pattern=\"GR(.)?Y\"\n",
    "prog = re.compile(pattern)\n",
    "l=[\"GREY 'S\",\"GRAY\",\"GREYISH\",\"A GREY\"]\n",
    "for elem in l:\n",
    "    result = prog.match(elem)\n",
    "    print(elem,result)\n"
   ]
  },
  {
   "cell_type": "markdown",
   "metadata": {},
   "source": [
    "To search for specific expressions in a character string."
   ]
  },
  {
   "cell_type": "code",
   "execution_count": 8,
   "metadata": {
    "colab": {},
    "colab_type": "code",
    "id": "dSppk5IszeHE",
    "outputId": "90badda8-bab3-4eba-9c8d-9547e9da2f48"
   },
   "outputs": [
    {
     "name": "stdout",
     "output_type": "stream",
     "text": [
      "['E']\n"
     ]
    }
   ],
   "source": [
    "print(re.findall(\"GR(.)?Y\", \"GREY\"))\n",
    "# so here we are looking for a unique element (.)? between GR and Y"
   ]
  },
  {
   "cell_type": "code",
   "execution_count": 9,
   "metadata": {
    "colab": {},
    "colab_type": "code",
    "id": "c7xuIjyLzeHJ",
    "outputId": "5f86f01d-7b12-40d3-bf21-27546c53ce15"
   },
   "outputs": [
    {
     "data": {
      "text/plain": [
       "[('R', 'E')]"
      ]
     },
     "execution_count": 9,
     "metadata": {},
     "output_type": "execute_result"
    }
   ],
   "source": [
    "# Ditto for two characters to be found\n",
    "re.findall(\"G(.)?(.)?Y\", \"GREY\")"
   ]
  },
  {
   "cell_type": "markdown",
   "metadata": {},
   "source": [
    "To keep only the numbers : "
   ]
  },
  {
   "cell_type": "code",
   "execution_count": 10,
   "metadata": {
    "colab": {},
    "colab_type": "code",
    "id": "WBrIVn-_zeHN",
    "outputId": "fc9c1cfe-4b92-4994-ce15-b5d4e7139ff1"
   },
   "outputs": [
    {
     "name": "stdout",
     "output_type": "stream",
     "text": [
      "['7', '220']\n"
     ]
    }
   ],
   "source": [
    "# Only numbers\n",
    "print(re.findall(\"([0-9]+)\", \"Hello I live on the 7th floor of 220 street of sims\"))\n",
    "# \"+\" Means 1 or more characters"
   ]
  },
  {
   "cell_type": "markdown",
   "metadata": {},
   "source": [
    "And conversely, if you only want to keep the words. "
   ]
  },
  {
   "cell_type": "code",
   "execution_count": 11,
   "metadata": {
    "colab": {},
    "colab_type": "code",
    "id": "ox7Nu7kUzeHU",
    "outputId": "69941c41-5c8f-4056-dfe6-ff66651d7bbd"
   },
   "outputs": [
    {
     "name": "stdout",
     "output_type": "stream",
     "text": [
      "['Hello', 'I', 'live', 'on', 'the', 'th', 'floor', 'of', 'street', 'of', 'sims']\n"
     ]
    }
   ],
   "source": [
    "# Only words\n",
    "print(re.findall(\"([A-z]+)\", \"Hello I live on the 7th floor of 220 street of sims\"))"
   ]
  },
  {
   "cell_type": "markdown",
   "metadata": {
    "colab_type": "text",
    "id": "kjICFwLNzeHX"
   },
   "source": [
    "### Stop, we recap !"
   ]
  },
  {
   "cell_type": "markdown",
   "metadata": {
    "colab_type": "text",
    "id": "dMMTCegrzeHY"
   },
   "source": [
    "Character | Meaning   \n",
    ":-------------------------:|:-------------------------:\n",
    "**.** | **Refers to any character.**\n",
    "**^** | **Indicates that the beginning of the string must match <br/> (i.e. a string can only match if it starts in the same way, <br /> if it is preceded by spaces or a line break)**\n",
    "**$** | **Indicates that the end of the chain must match <br /> (the same remark as above applies, but at the end level).**\n",
    "**{n}**|**Indicates that the previous character must be repeated n times.**\n",
    "**{n, m}**|**Indicates that the previous character must be repeated between n and m times.**\n",
    " *| **The previous character can be repeated none or several times. <br />For example, ab* may correspond to: a, ab, or a followed by any number of b.**\n",
    "**+**|**The previous character can be repeated once or several times. <br/>For example, to ab+ corresponds an a followed by any number of b.**\n",
    "**?**|**The previous character can be repeated zero or once.<br /> For example, to ab? correspond ab and a.**\n",
    "**\\w** | **it corresponds to any alphabetical character, it is equivalent to [a-zA-Z].**\n",
    "**\\W** | **it corresponds to everything that is not an alphabetical character.**\n",
    "**\\d** | **it corresponds to any numeric character, i.e. it is equivalent to[0-9].**\n",
    "**\\D** | **it corresponds to everything that is not a numeric character.**"
   ]
  },
  {
   "cell_type": "markdown",
   "metadata": {
    "colab_type": "text",
    "id": "ZNoamLAczeHc"
   },
   "source": [
    "![alt text](http://www.codercaste.com/wp-content/uploads/2013/01/regex.gif)"
   ]
  },
  {
   "cell_type": "markdown",
   "metadata": {
    "colab_type": "text",
    "id": "kHIg2LmjzeHd"
   },
   "source": [
    "### Some useful resources\n",
    "http://www.rexegg.com/regex-quickstart.html  \n",
    "http://www.dreambank.net/regex.html#examples  \n",
    "https://pythex.org/ *(Pythex is a real-time regular expression editor for Python, a quick way to test your regular expressions.)*   \n",
    "https://regex101.com/   \n",
    "*(Regex101 is online regex editor and debugger. Regex101 allows you to create, debug, test and have your expressions explained for PHP, PCRE, Python, Golang and JavaScript. The website also features a community where you can share useful expressions.)*"
   ]
  },
  {
   "cell_type": "markdown",
   "metadata": {
    "colab_type": "text",
    "id": "f-xPzTvWzeHe"
   },
   "source": [
    "#### How to check that the entered string is that of a number ?"
   ]
  },
  {
   "cell_type": "code",
   "execution_count": 12,
   "metadata": {
    "colab": {},
    "colab_type": "code",
    "id": "w3nZ_oIbzeHf",
    "outputId": "890ed6b5-b5f5-4c19-a7d0-3848899346a1"
   },
   "outputs": [
    {
     "name": "stdout",
     "output_type": "stream",
     "text": [
      "Your number : 789\n",
      "The string entered is a number.\n"
     ]
    }
   ],
   "source": [
    "nb = input('Your number : ')\n",
    "if (re.match(\"^[0-9]+$\", nb)): \n",
    "    print(\"The string entered is a number.\")\n",
    "else:\n",
    "    print(\"The string entered is NOT a number\")"
   ]
  },
  {
   "cell_type": "markdown",
   "metadata": {},
   "source": [
    "Another way"
   ]
  },
  {
   "cell_type": "code",
   "execution_count": 13,
   "metadata": {
    "colab": {},
    "colab_type": "code",
    "id": "hH4MzAn5zeHi",
    "outputId": "799bd89d-35df-406f-e1d5-f17d4c1a2889"
   },
   "outputs": [
    {
     "name": "stdout",
     "output_type": "stream",
     "text": [
      "The string entered is a number.\n"
     ]
    }
   ],
   "source": [
    "prog = re.compile(\"^[0-9]+$\")\n",
    "if  prog.search(nb) is not None : \n",
    "    print(\"The string entered is a number.\")\n",
    "else:\n",
    "    print(\"The string entered is NOT a number\")"
   ]
  },
  {
   "cell_type": "markdown",
   "metadata": {},
   "source": [
    "## Drill "
   ]
  },
  {
   "cell_type": "markdown",
   "metadata": {
    "colab_type": "text",
    "id": "f5YsM8CYzeHl"
   },
   "source": [
    "\n",
    "**1. Create a regex that finds integers without size limit.**"
   ]
  },
  {
   "cell_type": "code",
   "execution_count": 14,
   "metadata": {
    "colab": {},
    "colab_type": "code",
    "id": "-Ui9NhETzeHm",
    "outputId": "e0932e42-44c0-4718-b4d0-6b247fc1f674"
   },
   "outputs": [],
   "source": [
    "s='sssgdds8sfsfs'"
   ]
  },
  {
   "cell_type": "markdown",
   "metadata": {
    "colab_type": "text",
    "id": "5s96xBmKzeHr"
   },
   "source": [
    "**2. Create a regex that finds negative integer without size limit.**"
   ]
  },
  {
   "cell_type": "code",
   "execution_count": 15,
   "metadata": {
    "colab": {},
    "colab_type": "code",
    "id": "_BE3W4FrzeHr"
   },
   "outputs": [],
   "source": [
    "s='sssgdds-8sfsfs'"
   ]
  },
  {
   "cell_type": "markdown",
   "metadata": {
    "colab_type": "text",
    "id": "VTyKX9W6zeHt"
   },
   "source": [
    "**3. Create a regex that finds (positive or negative) integer without size limit.**"
   ]
  },
  {
   "cell_type": "code",
   "execution_count": 16,
   "metadata": {
    "colab": {},
    "colab_type": "code",
    "id": "aUt7Ut6szeHu"
   },
   "outputs": [],
   "source": [
    "s='sssgdds-8s8fsfs'"
   ]
  },
  {
   "cell_type": "markdown",
   "metadata": {
    "colab_type": "text",
    "id": "0PHROIn0zeHw"
   },
   "source": [
    "**4. Capture all the numbers of the following sentence :**"
   ]
  },
  {
   "cell_type": "code",
   "execution_count": 17,
   "metadata": {
    "colab": {},
    "colab_type": "code",
    "id": "ZqZWhh6DzeHx"
   },
   "outputs": [],
   "source": [
    "text = '21 scouts and 3 tanks fought against 4,003 protestors, so the manager was not 100.00% happy.'"
   ]
  },
  {
   "cell_type": "markdown",
   "metadata": {
    "colab_type": "text",
    "id": "eMyqTHyTzeH2"
   },
   "source": [
    "**5. Find all words that end with 'ly'.**"
   ]
  },
  {
   "cell_type": "code",
   "execution_count": 18,
   "metadata": {
    "colab": {},
    "colab_type": "code",
    "id": "F0zce0lbzeH2"
   },
   "outputs": [],
   "source": [
    "text = \"He had prudently disguised himself but was quickly captured by the police.\""
   ]
  },
  {
   "cell_type": "markdown",
   "metadata": {
    "colab": {},
    "colab_type": "code",
    "id": "QoIRhUQazeH4"
   },
   "source": [
    "**6. License plate number**  \n",
    "A license plate consists of 2 capital letters, a dash ('-'), 3 digits, a dash ('-') and finally 2 capital letters. Write a script to check that an input string is a license plate (input () method).  \n",
    "If it's correct, print \"good\". If it's not correct, print \"Not good\"."
   ]
  },
  {
   "cell_type": "code",
   "execution_count": 19,
   "metadata": {
    "colab": {},
    "colab_type": "code",
    "id": "PA-6loX6zeH8",
    "outputId": "b7289953-b595-4a76-c493-a6964423804a"
   },
   "outputs": [
    {
     "name": "stdout",
     "output_type": "stream",
     "text": [
      "Enter your License plate number:787\n"
     ]
    }
   ],
   "source": [
    "plate = input(\"Enter your License plate number:\")"
   ]
  },
  {
   "cell_type": "markdown",
   "metadata": {
    "colab_type": "text",
    "id": "3ioJXWmXzeIC"
   },
   "source": [
    "**7 . Address IPV4**  \n",
    "An IPv4 address is composed of 4 numbers between 0 and 255 separated by '.'   \n",
    "Write a script to verify that a string entered is that of an IPv4 address (input() method)"
   ]
  },
  {
   "cell_type": "code",
   "execution_count": 20,
   "metadata": {
    "colab": {},
    "colab_type": "code",
    "id": "AEcNL-vXzeIE"
   },
   "outputs": [
    {
     "name": "stdout",
     "output_type": "stream",
     "text": [
      "Enter your IP address :\n"
     ]
    }
   ],
   "source": [
    "ip = input(\"Enter your IP address :\")"
   ]
  },
  {
   "cell_type": "markdown",
   "metadata": {},
   "source": [
    "**8. Valid Mail**  \n",
    "An email is composed of alphanumeric characters followed by @ and a domain name.  \n",
    "Write a script that checks that the string entered by a User is indeed that of an email, otherwise ask him to re-enter it again (until he gets a valid email)?"
   ]
  },
  {
   "cell_type": "code",
   "execution_count": 21,
   "metadata": {
    "colab": {},
    "colab_type": "code",
    "id": "8NGjap8NzeIH"
   },
   "outputs": [
    {
     "name": "stdout",
     "output_type": "stream",
     "text": [
      "Enter your email :\n"
     ]
    }
   ],
   "source": [
    "mail = input(\"Enter your email :\")"
   ]
  },
  {
   "cell_type": "markdown",
   "metadata": {
    "colab_type": "text",
    "id": "5YoLVVnJzeIK"
   },
   "source": [
    "**9. Valid Password**  \n",
    "Add in the script the verification of the password (obviously if the email is valid) where the only specificity of the password is to contain at least 6 characters"
   ]
  },
  {
   "cell_type": "code",
   "execution_count": 22,
   "metadata": {
    "colab": {},
    "colab_type": "code",
    "id": "1NJd2SIGzeIM"
   },
   "outputs": [
    {
     "name": "stdout",
     "output_type": "stream",
     "text": [
      "Enter your Password :\n"
     ]
    }
   ],
   "source": [
    "password = input(\"Enter your Password :\")"
   ]
  },
  {
   "cell_type": "markdown",
   "metadata": {
    "colab_type": "text",
    "id": "QBnkFFmtzeIO"
   },
   "source": [
    "**10. Valid Password bis**  \n",
    "The password must now contain at least 6 characters:  \n",
    "At least one lowercase letter AND at least one uppercase letter AND at least one number AND at least one special character (among $#@)."
   ]
  },
  {
   "cell_type": "code",
   "execution_count": 23,
   "metadata": {
    "colab": {},
    "colab_type": "code",
    "id": "Kh8YQEcjzeIP"
   },
   "outputs": [
    {
     "name": "stdout",
     "output_type": "stream",
     "text": [
      "Enter your Password :\n"
     ]
    }
   ],
   "source": [
    "password = input(\"Enter your Password :\")\n"
   ]
  },
  {
   "cell_type": "markdown",
   "metadata": {},
   "source": [
    "**11. Search by groups**  \n",
    "It is possible to search by group, and it is very powerful!  \n",
    "``?P<x>\\w+`` means the capture of a \"group\" named x, this group is an alphanumeric (\\ w) of at least one character (+)"
   ]
  },
  {
   "cell_type": "code",
   "execution_count": 24,
   "metadata": {
    "colab": {},
    "colab_type": "code",
    "id": "B84T52avzeIT",
    "outputId": "8c172ad4-e738-4959-853f-769431aa63fd"
   },
   "outputs": [
    {
     "name": "stdout",
     "output_type": "stream",
     "text": [
      "olivier\n",
      "32\n"
     ]
    }
   ],
   "source": [
    "m = re.search(\"Welcome to (?P<where>\\w+) ! You are (?P<age>\\d+) years old ?\", \"Welcome to olivier ! You are 32 years old ?\")\n",
    "print(m.group('where'))\n",
    "print(m.group('age'))"
   ]
  },
  {
   "cell_type": "code",
   "execution_count": 25,
   "metadata": {
    "colab": {},
    "colab_type": "code",
    "id": "8zIMNbCVzeIW",
    "outputId": "7688cc3b-627d-4c7f-9352-71238148cb88"
   },
   "outputs": [
    {
     "name": "stdout",
     "output_type": "stream",
     "text": [
      "audrey\n",
      "boulevart\n",
      "benextcomapgny\n",
      "com\n"
     ]
    }
   ],
   "source": [
    " # Another Example\n",
    "m = re.search(\"^(?P<who>\\w*)[.]?(?P<who2>\\w*)@(?P<operator>\\w+)[.](?P<zone>\\w+$)\", \"audrey.boulevart@benextcomapgny.com\")\n",
    "if m is not None:\n",
    "    print (m.group(\"who\"))\n",
    "    print (m.group('who2'))\n",
    "    print (m.group('operator'))\n",
    "    print (m.group('zone'))  "
   ]
  },
  {
   "cell_type": "markdown",
   "metadata": {
    "colab_type": "text",
    "id": "jWjUNH0wzeIY"
   },
   "source": [
    "Load the file ``./assets/mail.txt`` and clean it with the regex. The goal is to retrieve the last name, first name, operator and zone, as in the previous example. And store these information in associated lists."
   ]
  },
  {
   "cell_type": "code",
   "execution_count": 28,
   "metadata": {
    "colab": {},
    "colab_type": "code",
    "id": "-lbl8DZDzeIZ",
    "tags": []
   },
   "outputs": [
    {
     "name": "stdout",
     "output_type": "stream",
     "text": [
      "0\n"
     ]
    }
   ],
   "source": [
    "list_mail = open(\"mail.txt\")\n",
    "liste_mail=[]\n",
    "who = []\n",
    "who2 = []\n",
    "operator = []\n",
    "zone = []\n",
    "for mail in list_mail:\n",
    "    mails = mail.split(\" \")\n",
    "    if not mails:\n",
    "        liste_mail.append(mail)\n",
    "    for element in mails:\n",
    "        if re.match(\"\\w+@\\w+.\\w+\",mail):\n",
    "            liste_mail.append(element)\n",
    "for mail in liste_mail:\n",
    "    m = re.search(\"(?P<who>\\w*)[.]?(?P<who2>\\w*)@(?P<operator>\\w+)[.](?P<zone>\\w+)\", mail)\n",
    "    if m is not None:\n",
    "        who.append(m.group(\"who\"))\n",
    "        who2.append(m.group('who2'))\n",
    "        operator.append(m.group('operator'))\n",
    "        zone.append(m.group('zone')) \n",
    "print(len(who)) "
   ]
  },
  {
   "cell_type": "markdown",
   "metadata": {
    "colab_type": "text",
    "id": "HRj-nKbszeIi"
   },
   "source": [
    "**12. Another way of doing things.**"
   ]
  },
  {
   "cell_type": "code",
   "execution_count": 32,
   "metadata": {
    "colab": {},
    "colab_type": "code",
    "id": "KZ-pp_LdzeIb",
    "outputId": "9ce1a3a7-4cf2-444e-ebdb-0c1bcdb9c3d8"
   },
   "outputs": [
    {
     "data": {
      "text/plain": [
       "(['audrey'], ['boulevart'], ['benextcomapgny'], ['com'])"
      ]
     },
     "execution_count": 32,
     "metadata": {},
     "output_type": "execute_result"
    }
   ],
   "source": [
    "mail=\"audrey.boulevart@benextcomapgny.com\"\n",
    "splitMail = mail.replace('.',' ').split('@').copy()\n",
    "\n",
    "firstName =[]\n",
    "name =[]\n",
    "ope =[]\n",
    "zone =[]\n",
    "\n",
    "firstName.append(splitMail[0].split()[0])\n",
    "name.append(splitMail[0].split()[-1])\n",
    "ope.append(splitMail[1].split()[0])\n",
    "zone.append(splitMail[1].split()[-1])\n",
    "\n",
    "firstName, name, ope, zone"
   ]
  },
  {
   "cell_type": "markdown",
   "metadata": {},
   "source": [
    "Repeat the previous exercise with this new formula and compare the length of your lists with those of the previous exercise.  \n",
    "What do you notice ?"
   ]
  },
  {
   "cell_type": "code",
   "execution_count": 38,
   "metadata": {
    "colab": {},
    "colab_type": "code",
    "collapsed": true,
    "id": "N5YTf2YdzeIi"
   },
   "outputs": [
    {
     "name": "stdout",
     "output_type": "stream",
     "text": [
      "audrey.boulevart@benextcomapgny.com\n",
      "\n",
      "e.soimier@cidff92bb.fr\n",
      "\n",
      "farid.mouhous@mairie-aubervilliers.fr\n",
      "\n",
      "nathalie@adalong.com\n",
      "\n",
      "nayely.garcia@orness.com\n",
      "\n",
      "sylvie.pletan@arealti.com\n",
      "\n",
      "caroline.desmarquest@duonyx.com\n",
      "\n",
      "guillaume.loisance@duonyx.com\n",
      "\n",
      "nathalie.comte@socgen.com\n",
      "\n",
      " yves.hinnekint@opcalia.com\n",
      "\n",
      "a-nkupferberg@alten.com ankupferberg@alten.com akupferberg@alten.com\n",
      "\n",
      "a.bressolle@criteo.com\n",
      "\n",
      "abdul.malik@total.com\n",
      "\n",
      "abosonnet@venteprivee.com\n",
      "\n",
      "acdagorn@assystem.com\n",
      "\n",
      "agnes.broche-longue@toyota.fr\n",
      "\n",
      "agnes.bureau-mirat@eliorgroup.com\n",
      "\n",
      "agnes.fraisy@oscaro.com\n",
      "\n",
      "aicha.goumanouz@bollore.com\n",
      "\n",
      "alain.lorgeoux@safran.fr\n",
      "\n",
      "alain.staron@veolia.com\n",
      "\n",
      "alexandra.jolivet@danone.com\n",
      "\n",
      "alexandra.lange@ag2rlamondiale.fr\n",
      "\n",
      "alexandra.mailliard@ag2rlamondiale.fr\n",
      "\n",
      "alexandra.masanes@astrazeneca.com\n",
      "\n",
      "alexandre.hassani@grdf.fr \n",
      "\n",
      "amandine.fresnel@amadeus.com\n",
      "\n",
      "amelie.delacroixguilliamat@capgemini.com\n",
      "\n",
      "amelie.quidor@bouygues.com\n",
      "\n",
      "amina.bamansor@bnpparibas-pf.com\n",
      "\n",
      "amingalon@eutelstat.fr\n",
      "\n",
      "angÃ©lina.lamy@accenture.com\n",
      "\n",
      "anne-claire.jullien@sephora.fr acjulien@jullien.fr\n",
      "\n",
      "anne-marie.cambourieu@nexans.com\n",
      "\n",
      "anne.boucher@sncf.fr\n",
      "\n",
      "anne.dumanoir@bnpparibas.com\n",
      "\n",
      "anneelise.chevillard@axa.fr\n",
      "\n",
      "annegabrielle@google.com\n",
      "\n",
      "Antoine.quenet@avanade.com\n",
      "\n",
      "arerolle@hachette-livre.fr\n",
      "\n",
      "armando.dasilva@francetv.fr\n",
      "\n",
      "armelle.jamault@systematic-paris-region.org\n",
      "\n",
      "armelle.levieux@airliquide.fr\n",
      "\n",
      "Arnaud.MEJEAN@ag2rlamondiale.fr\n",
      "\n",
      "asdroit@picard.fr a-s.droit@picard.fr anne-sophie.droit@picard.fr\n",
      "\n",
      "aurelia.larennes@rivesparis.banquepopulaire.fr\n",
      "\n",
      "aurelie.andrÃ©@etam.fr\n",
      "\n",
      "aurelie.morin@chronopost.fr\n",
      "\n",
      "aurelie.robin@socgen.com\n",
      "\n",
      "aurelie.vieren@gfi.fr\n",
      "\n",
      "aurelien.sonnet@sodexo.com\n",
      "\n",
      "aymeric.vincent@editis.com\n",
      "\n",
      "b.duverneuil@essilor.com\n",
      "\n",
      "bcourtot@lagardere.fr\n",
      "\n",
      "belen.moreu@pepsico.com\n",
      "\n",
      "benedicte.guitton@cgi.com\n",
      "\n",
      "benjamin.brasseur@leroymerlin.fr bbrasseur@leroymerlin.fr \n",
      "\n",
      "benoit.decock@philips.com\n",
      "\n",
      "benoit.huver@orange.com\n",
      "\n",
      "berangere.grandjean@cnp.fr b.grandjean@cnp.fr bgrandjean@cnp.fr\n",
      "\n",
      "bernard.duverneuil@eliorgroup.com\n",
      "\n",
      "bernard.nebout@manpower.fr\n",
      "\n",
      "bertrand.austruy@danone.com\n",
      "\n",
      "bertrand.lebras@boursorama.com\n",
      "\n",
      "bertrand.nachaur@dalkia.fr\n",
      "\n",
      "bienvenu@amazon.fr\n",
      "\n",
      "boganin.yannick@oostaoo.com\n",
      "\n",
      "boris.derichebourg@derichebourg.com\n",
      "\n",
      "bruno.brocheton@disney.com\n",
      "\n",
      "bruno.guillemet@valeo.com\n",
      "\n",
      "bruno.pasini@zodiacaerospace.com\n",
      "\n",
      "bserre@macif.fr\n",
      "\n",
      "c.djendoyan@criteo.com\n",
      "\n",
      "carine.vrignaud@meltygroup.com\n",
      "\n",
      "caroline.elbaz@oracle.com\n",
      "\n",
      "caroline.garnier@hpe.com\n",
      "\n",
      "caroline.quentel@laposte.fr\n",
      "\n",
      "caroline.remyneris@mpsa.com\n",
      "\n",
      "catherine.mabileau@loreal.com\n",
      "\n",
      "cboisson@google.com\n",
      "\n",
      "ccharlez@macif.fr\n",
      "\n",
      "cdelauney@alten.com\n",
      "\n",
      "cedric.zaepffel@bnpparibas.com\n",
      "\n",
      "celina.auger@engie.com\n",
      "\n",
      "cfoglio@m6.fr\n",
      "\n",
      "charles.mourot@laposte.fr\n",
      "\n",
      "Chloe.FREOA@lagardere-active.com\n",
      "\n",
      "christel.heydemann@schneider-electric.com\n",
      "\n",
      "christine.astruc@alliance-rnm.com\n",
      "\n",
      "christine.tarbouriech@fondation-sycomore.com\n",
      "\n",
      "claire.duplessis@lineup7.fr\n",
      "\n",
      "claire.pedini@saint-gobain.com\n",
      "\n",
      "claude.leopold@ratp.fr\n",
      "\n",
      "coline.riviere@showroomprive.net\n",
      "\n",
      "cperez@m6.fr sophie.perez@m6.fr\n",
      "\n",
      "d.lefranc@bollore.com\n",
      "\n",
      "dalila.el-mhamdi@it-ce.fr\n",
      "\n",
      "daniel.dreux@disney.com\n",
      "\n",
      "daphne.mallez@axa.fr\n",
      "\n",
      "dave.ubachs@edenred.com\n",
      "\n",
      "david-alexandre.fournier@bollore.com\n",
      "\n",
      "david.grincourt@resbtz.fr\n",
      "\n",
      "delphine.asseraf@allianz.fr\n",
      "\n",
      "delphine.esculier@derichebourg.com\n",
      "\n",
      "didier.beny@rte-france.com\n",
      "\n",
      "didier.coulomb@schneider-electric.com\n",
      "\n",
      "didier.gondoin@dassault-aviation.fr\n",
      "\n",
      "didier.moate@laposte.fr\n",
      "\n",
      "dominique.kunz@al-enterprise.com\n",
      "\n",
      "dominique.maret@altran.com\n",
      "\n",
      "dominique.massoni@arkema.com\n",
      "\n",
      "dominique.scudeletti@cetelem.fr\n",
      "\n",
      "Doriam.Chemcham@dentsuaegis.com\n",
      "\n",
      "ecopin@malakoffmederic.com\n",
      "\n",
      "edebressieux@alten.com\n",
      "\n",
      "elisabeth.rasmussen@spie.com\n",
      "\n",
      "elizabeth.sfez@allianz.fr\n",
      "\n",
      "elodie.sencier@3ds.com\n",
      "\n",
      "emilie.vie@arcelormittal.com\n",
      "\n",
      "emmanuel.renaldi@disney.com\n",
      "\n",
      "emmanuel.roldan@sogeti.com\n",
      "\n",
      "emoreno@lenovo.com\n",
      "\n",
      "eric.ribeyre@alstomgroup.com\n",
      "\n",
      "etanneau@m6.fr emmanuelle.tanneau@m6.fr\n",
      "\n",
      "evaudaine@malakoffmederic.com\n",
      "\n",
      "ext.cyril.garnier@sncf.fr\n",
      "\n",
      "f.mathieu@essilor.com\n",
      "\n",
      "fabienne_beauvisage@whirlpool.com fbeauvisage@whirlpool.com\n",
      "\n",
      "fabrice.badreau@maif.fr\n",
      "\n",
      "fabrice.losson@soprasteria.com\n",
      "\n",
      "fabrice@yogosha.com\n",
      "\n",
      "faugier@nexity.fr\n",
      "\n",
      "fchemaly@galerieslafayette.com\n",
      "\n",
      "fgiavarini@gmail.com\n",
      "\n",
      "florence.javoy@ratp.fr\n",
      "\n",
      "florence.lecoutre@eulerhermes.com\n",
      "\n",
      "florence.schreiber@dalkia.fr\n",
      "\n",
      "franck.gauthier@eiffage.com\n",
      "\n",
      "francois.curie@vallourec.fr\n",
      "\n",
      "franÃ§ois.darchis@airliquide.fr\n",
      "\n",
      "francois.rouvier@renault.com\n",
      "\n",
      "frank.waldmann@rexel.com\n",
      "\n",
      "frederic.bourdeau@compass-group.fr\n",
      "\n",
      "frederic.dufaux@docapost.fr\n",
      "\n",
      "frederic.gimenez@total.com\n",
      "\n",
      "frederic.reymbaut@ratp.fr\n",
      "\n",
      "g.wozelka@neopost.com\n",
      "\n",
      "gael.rogerroquard@groupe-crit.com\n",
      "\n",
      "georges.ichkanian@sncf.fr\n",
      "\n",
      "georges.penalver@st.com\n",
      "\n",
      "godinot.b@apple.com\n",
      "\n",
      "guy-mamou@open-groupe.com\n",
      "\n",
      "hawa.doucoure@meltygroup.com\n",
      "\n",
      "heloise.bouedo@vinci-energies.com\n",
      "\n",
      "heloise.lauret@bnpparibas.com\n",
      "\n",
      "henri.blais@leroymerlin.fr\n",
      "\n",
      "hugenin.gilles@oostaoo.com\n",
      "\n",
      "hugo.catherine@talan.fr\n",
      "\n",
      "hugues.demaussion@chronopost.fr\n",
      "\n",
      "idelaplace@lfdj.com\n",
      "\n",
      "isabelle.calvez@suez.com\n",
      "\n",
      "isabelle.coquelle-ricq@amundi.com\n",
      "\n",
      "isabelle.daniel@axa.fr\n",
      "\n",
      "isabelle.kokoschka@allianz.fr\n",
      "\n",
      "isabelle.pla@boursorama.com\n",
      "\n",
      "jacques.adoue@edenred.com\n",
      "\n",
      "jbertrand@wemanity.com\n",
      "\n",
      "jdekker@sephora.fr\n",
      "\n",
      "Jean-Christophe.brochet@engie.com\n",
      "\n",
      "jean-christophe.sciberras@solvay.com\n",
      "\n",
      "jean-claude.legrand@loreal.com\n",
      "\n",
      "jean-damien.po@saur.com\n",
      "\n",
      "jean-jacques.cara@dassault-aviation.fr\n",
      "\n",
      "jean-jacques.salaun@inditex.com\n",
      "\n",
      "jean-louis.marucci@engie.com\n",
      "\n",
      "jean-louis.roussel@loreal.com\n",
      "\n",
      "jean-marc.fontaine@total.com\n",
      "\n",
      "jean-paul.muller@gfi.fr\n",
      "\n",
      "jean-pierre.sounillac@faurecia.com\n",
      "\n",
      "jean-sebastien.blanc@plasticomnium.com \n",
      "\n",
      "jean.sass@dassault-aviation.fr\n",
      "\n",
      "jeanne.normand@jcdecaux.com\n",
      "\n",
      "jerome.boiselle@lineup7.fr\n",
      "\n",
      "jerome.mlynarczyk@bnpparibas.com\n",
      "\n",
      "jmberoudiat@caciis.com\n",
      "\n",
      "joffrey.celigny@consort-group.com\n",
      "\n",
      "jonathan.salmon@etam.com\n",
      "\n",
      "julie_levitte@carrefour.com\n",
      "\n",
      "karim.boumaza@philips.com\n",
      "\n",
      "karine.favrou@priceminister.com\n",
      "\n",
      "ksensey@fealinx.com\n",
      "\n",
      "laura.berni@corp.ovh.com\n",
      "\n",
      "laure.brion@cgi.com\n",
      "\n",
      "laure.montier@biogaran.fr\n",
      "\n",
      "laurence.bieth@transdev.com\n",
      "\n",
      "laurence.hontarrede@bnpparibas.com\n",
      "\n",
      "laurent.bremond@scor.com lbremond@scor.com \n",
      "\n",
      "laurent.choain@mazars.fr\n",
      "\n",
      "laurent.dordain@engie.com\n",
      "\n",
      "laurent.guillaume@engie.com\n",
      "\n",
      "loic.mathon@corp.ovh.com\n",
      "\n",
      "loic.porry@leroymerlin.fr\n",
      "\n",
      "lucie.prevot@meltygroup.com\n",
      "\n",
      "mad@ecedi.fr\n",
      "\n",
      "marie-caroline.delhomenie@siemens.com\n",
      "\n",
      "marie-laure.langlois@cegedim.com\n",
      "\n",
      "marie.durieux@schibsted.com\n",
      "\n",
      "marie.leclerc-bruant@bpce.fr\n",
      "\n",
      "marie.mottet@vivendi.com\n",
      "\n",
      "mariehelene.polloni@dentsuaegis.com\n",
      "\n",
      "mariepierre.aulas@3ds.com\n",
      "\n",
      "marinoelle.jegolaveissiere@orange.com\n",
      "\n",
      "marion.locatelli@natixis.com\n",
      "\n",
      "martine.birot@ingenico.com\n",
      "\n",
      "martine.nicolas@loreal.com\n",
      "\n",
      "matthieu.azzouz@amundi.com\n",
      "\n",
      "mayalen.brenier@bayard-presse.com\n",
      "\n",
      "michael.detoldi@bnpparibas.com\n",
      "\n",
      "michel.delaborde@arkema.com\n",
      "\n",
      "mireille.galeazzi@euroclear.com\n",
      "\n",
      "mmaugeais@amaris.com\n",
      "\n",
      "mmoyen-pedone@oui.sncf\n",
      "\n",
      "morgane.galopin@bnpparibas.com\n",
      "\n",
      "mrainon@salesforce.com\n",
      "\n",
      "mwacheul@umanis.com\n",
      "\n",
      "mwargnier@nexity.fr\n",
      "\n",
      "nadine.grall@altran.com\n",
      "\n",
      "natacha.cambriels@resbtz.fr\n",
      "\n",
      "nathalie.dore@bnpparibas.com\n",
      "\n",
      "nathalie.rafiy@3ds.com\n",
      "\n",
      "nathalie.severin@maureletprom.fr nseverin@maureletprom.fr n.severin@maureletprom.fr\n",
      "\n",
      "nathalie.wright@rexel.com\n",
      "\n",
      "ndonot@fealinx.com\n",
      "\n",
      "nelly.frey@monster.fr\n",
      "\n",
      "nhamadache@syntec-numerique.fr\n",
      "\n",
      "nicolas.bouts@servier.com\n",
      "\n",
      "Nicolas.sekkaki@fr.ibm.com\n",
      "\n",
      "oguigner@conforma.fr\n",
      "\n",
      "olga.trostiansky@credit-agricole-sa.fr\n",
      "\n",
      "olivier.falla-etzol@atos.net\n",
      "\n",
      "olivier.ghienne@engie.com\n",
      "\n",
      "olivier.mavezin@compass-group.fr\n",
      "\n",
      "olivier.oger@samsung.com\n",
      "\n",
      "paquita_arrenous@carrefour.com\n",
      "\n",
      "pascal.toyer@avanade.com\n",
      "\n",
      "patrick-charles.franqueville@eiffage.com\n",
      "\n",
      "pdoublet@groupe-pomona.fr philippe.doublet@groupe-pomona.fr p.doublet@groupe-pomona.fr\n",
      "\n",
      "philippe.algranti@systeme-u.fr\n",
      "\n",
      "philippe.cuenot@mercedes-benz.com\n",
      "\n",
      "philippe.dufour@edenred.com\n",
      "\n",
      "philippine.declercq@legrand.fr\n",
      "\n",
      "pierre.bevierre@coface.com\n",
      "\n",
      "plafon@laredoute.fr\n",
      "\n",
      "prenom.nom@humanis.com\n",
      "\n",
      "prenom.nom@pierre-fabre.com\n",
      "\n",
      "prenom.nom@sacem.fr\n",
      "\n",
      "psaudo@auchan.com\n",
      "\n",
      "raphaele.leroy@bnpparibas.com\n",
      "\n",
      "raphaelle.broyez@ca-silca.fr\n",
      "\n",
      "rdelabays@lesieur.fr\n",
      "\n",
      "rh@maureletprom.fr\n",
      "\n",
      "roberto.pucci@sanofi.com\n",
      "\n",
      "rosa-anna.falco@engie.com\n",
      "\n",
      "sabine.fasanelli@ikea.com\n",
      "\n",
      "sackermann@moethennessy.com\n",
      "\n",
      "sarah.louguet@alstomgroup.com\n",
      "\n",
      "sarah.tesei@vinci.com\n",
      "\n",
      "sdjouadi@tf1.fr\n",
      "\n",
      "selouazzani@deloitte.fr\n",
      "\n",
      "severine.lesgourgues@altran.com\n",
      "\n",
      "slelayo@octo.com\n",
      "\n",
      "sonia.dutot@axa.fr\n",
      "\n",
      "sophie.joyat@bnpparibas.com\n",
      "\n",
      "stanislas.chevalet@bnpparibas.com\n",
      "\n",
      "stephane.distinguin@fabernovel.com\n",
      "\n",
      "stephane.planque@mercedes-benz.com\n",
      "\n",
      "stephanie.charles@adp.fr\n",
      "\n",
      "stephanie.gay@lyreco.com\n",
      "\n",
      "stephanie.toffin-clinquart@jcdecaux.fr\n",
      "\n",
      "sylvain.montcouquiol@unibail-rodamco.com\n",
      "\n",
      "sylvie.nicol@henkel.com\n",
      "\n",
      "sylvie.peretti@generali.com\n",
      "\n",
      "tatiana.meunieraudap@laposte.fr\n",
      "\n",
      "thierry.dufour@altran.com\n",
      "\n",
      "thierry.fayette@renault-trucks.com\n",
      "\n",
      "thierry.parmentier@alstomgroup.com\n",
      "\n",
      "thierry.parmentier@technip.fr\n",
      "\n",
      "thierry.salmona@imerys.com\n",
      "\n",
      "thomas.verazzi@bms.com\n",
      "\n",
      "toutes les adresses essayÃ©es me reviennent\n",
      "\n"
     ]
    },
    {
     "ename": "IndexError",
     "evalue": "list index out of range",
     "output_type": "error",
     "traceback": [
      "\u001b[1;31m---------------------------------------------------------------------------\u001b[0m",
      "\u001b[1;31mIndexError\u001b[0m                                Traceback (most recent call last)",
      "\u001b[1;32m<ipython-input-38-be34bb7b1021>\u001b[0m in \u001b[0;36m<module>\u001b[1;34m()\u001b[0m\n\u001b[0;32m     15\u001b[0m     \u001b[0mfirstName\u001b[0m\u001b[1;33m.\u001b[0m\u001b[0mappend\u001b[0m\u001b[1;33m(\u001b[0m\u001b[0msplitMail\u001b[0m\u001b[1;33m[\u001b[0m\u001b[1;36m0\u001b[0m\u001b[1;33m]\u001b[0m\u001b[1;33m.\u001b[0m\u001b[0msplit\u001b[0m\u001b[1;33m(\u001b[0m\u001b[1;33m)\u001b[0m\u001b[1;33m[\u001b[0m\u001b[1;36m0\u001b[0m\u001b[1;33m]\u001b[0m\u001b[1;33m)\u001b[0m\u001b[1;33m\u001b[0m\u001b[0m\n\u001b[0;32m     16\u001b[0m     \u001b[0mname\u001b[0m\u001b[1;33m.\u001b[0m\u001b[0mappend\u001b[0m\u001b[1;33m(\u001b[0m\u001b[0msplitMail\u001b[0m\u001b[1;33m[\u001b[0m\u001b[1;36m0\u001b[0m\u001b[1;33m]\u001b[0m\u001b[1;33m.\u001b[0m\u001b[0msplit\u001b[0m\u001b[1;33m(\u001b[0m\u001b[1;33m)\u001b[0m\u001b[1;33m[\u001b[0m\u001b[1;33m-\u001b[0m\u001b[1;36m1\u001b[0m\u001b[1;33m]\u001b[0m\u001b[1;33m)\u001b[0m\u001b[1;33m\u001b[0m\u001b[0m\n\u001b[1;32m---> 17\u001b[1;33m     \u001b[0mope\u001b[0m\u001b[1;33m.\u001b[0m\u001b[0mappend\u001b[0m\u001b[1;33m(\u001b[0m\u001b[0msplitMail\u001b[0m\u001b[1;33m[\u001b[0m\u001b[1;36m1\u001b[0m\u001b[1;33m]\u001b[0m\u001b[1;33m.\u001b[0m\u001b[0msplit\u001b[0m\u001b[1;33m(\u001b[0m\u001b[1;33m)\u001b[0m\u001b[1;33m[\u001b[0m\u001b[1;36m0\u001b[0m\u001b[1;33m]\u001b[0m\u001b[1;33m)\u001b[0m\u001b[1;33m\u001b[0m\u001b[0m\n\u001b[0m\u001b[0;32m     18\u001b[0m     \u001b[0mzone\u001b[0m\u001b[1;33m.\u001b[0m\u001b[0mappend\u001b[0m\u001b[1;33m(\u001b[0m\u001b[0msplitMail\u001b[0m\u001b[1;33m[\u001b[0m\u001b[1;36m1\u001b[0m\u001b[1;33m]\u001b[0m\u001b[1;33m.\u001b[0m\u001b[0msplit\u001b[0m\u001b[1;33m(\u001b[0m\u001b[1;33m)\u001b[0m\u001b[1;33m[\u001b[0m\u001b[1;33m-\u001b[0m\u001b[1;36m1\u001b[0m\u001b[1;33m]\u001b[0m\u001b[1;33m)\u001b[0m\u001b[1;33m\u001b[0m\u001b[0m\n\u001b[0;32m     19\u001b[0m \u001b[1;33m\u001b[0m\u001b[0m\n",
      "\u001b[1;31mIndexError\u001b[0m: list index out of range"
     ]
    }
   ],
   "source": [
    "list_mail = open(\"mail.txt\")\n",
    "who = []\n",
    "who2 = []\n",
    "operator = []\n",
    "zone = []\n",
    "for mail in list_mail:\n",
    "    print(mail)\n",
    "    splitMail = mail.replace('.',' ').split('@').copy()\n",
    "\n",
    "    firstName =[]\n",
    "    name =[]\n",
    "    ope =[]\n",
    "    zone =[]\n",
    "\n",
    "    firstName.append(splitMail[0].split()[0])\n",
    "    name.append(splitMail[0].split()[-1])\n",
    "    ope.append(splitMail[1].split()[0])\n",
    "    zone.append(splitMail[1].split()[-1])\n",
    "\n",
    "    firstName, name, ope, zone\n",
    "print(len(firstName))"
   ]
  },
  {
   "cell_type": "code",
   "execution_count": null,
   "metadata": {},
   "outputs": [],
   "source": []
  }
 ],
 "metadata": {
  "colab": {
   "name": "Av_2_python_regex.ipynb",
   "provenance": [],
   "version": "0.3.2"
  },
  "kernelspec": {
   "display_name": "Python 3",
   "language": "python",
   "name": "python3"
  },
  "language_info": {
   "codemirror_mode": {
    "name": "ipython",
    "version": 3
   },
   "file_extension": ".py",
   "mimetype": "text/x-python",
   "name": "python",
   "nbconvert_exporter": "python",
   "pygments_lexer": "ipython3",
   "version": "3.7.10"
  }
 },
 "nbformat": 4,
 "nbformat_minor": 1
}
