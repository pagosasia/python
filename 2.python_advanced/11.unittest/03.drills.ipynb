{
 "cells": [
  {
   "cell_type": "markdown",
   "metadata": {},
   "source": [
    "# Drills - unit testing\n",
    "Now that you have the basics, let's do some drills!\n",
    "\n",
    "Create a unittest for each of these functions."
   ]
  },
  {
   "cell_type": "markdown",
   "metadata": {},
   "source": [
    "## Custom exception\n",
    "We define here some custom exception."
   ]
  },
  {
   "cell_type": "code",
   "execution_count": 15,
   "metadata": {},
   "outputs": [],
   "source": [
    "class InvalidParamsException(Exception):\n",
    "    \"\"\"Raised when a param is invalid.\"\"\"\n",
    "    pass"
   ]
  },
  {
   "cell_type": "markdown",
   "metadata": {},
   "source": [
    "## Addition\n",
    "Check the result for those params:\n",
    "* [1, 1]\n",
    "* [2, 3]\n",
    "* [5, 2]\n",
    "* [20, 4]\n",
    "* [0, 200]\n",
    "* [2999, 231234]\n",
    "* [0, 0]\n",
    "\n",
    "In addition, create a test that checks that `InvalidParamsException` is raised correctly if you give something else than an int to the function.\n",
    "Check for: `string, float, dict, list`"
   ]
  },
  {
   "cell_type": "code",
   "execution_count": 19,
   "metadata": {},
   "outputs": [],
   "source": [
    "def addition(number_one: int, number_two: int) -> int:\n",
    "    if not isinstance(number_one, int) or not isinstance(number_two, int):\n",
    "        raise InvalidParamsException(\"A parameter is not an int!\")\n",
    "    return number_one + number_two"
   ]
  },
  {
   "cell_type": "code",
   "execution_count": 24,
   "metadata": {},
   "outputs": [
    {
     "name": "stderr",
     "output_type": "stream",
     "text": [
      ".\n",
      "----------------------------------------------------------------------\n",
      "Ran 1 test in 0.003s\n",
      "\n",
      "OK\n"
     ]
    },
    {
     "data": {
      "text/plain": [
       "<unittest.main.TestProgram at 0x1d64599eb88>"
      ]
     },
     "execution_count": 24,
     "metadata": {},
     "output_type": "execute_result"
    }
   ],
   "source": [
    "import unittest\n",
    "\n",
    "class TestMathFunctions(unittest.TestCase):\n",
    "    \"\"\"Class that will test all the math related functions.\"\"\"\n",
    "\n",
    "    def test_addition(self):\n",
    "        \"\"\"Test the addition function.\"\"\"\n",
    "        test_1 = addition(1, 1)\n",
    "        test_2 = addition(2, 3)\n",
    "        test_3 = addition(5, 5)\n",
    "\n",
    "        self.assertEqual(test_1, 2)\n",
    "        self.assertEqual(test_2, 5)\n",
    "        self.assertEqual(test_3, 10)\n",
    "        self.assertRaises(InvalidParamsException, addition,\"coucou\", 4)\n",
    "        self.assertRaises(InvalidParamsException, addition, 0.5, 3)\n",
    "        self.assertRaises(InvalidParamsException, addition, {\"cou\" : \"cou\"}, 7)\n",
    "        self.assertRaises(InvalidParamsException, addition, [2,1,2], 6)\n",
    "          \n",
    "\n",
    "\n",
    "unittest.main(argv=['first-arg-is-ignored'], exit=False)"
   ]
  },
  {
   "cell_type": "markdown",
   "metadata": {},
   "source": [
    "## Substraction\n",
    "Check the result for those params:\n",
    "* [1, 1]\n",
    "* [2, 3]\n",
    "* [5, 2]\n",
    "* [20, 4]\n",
    "* [0, 200]\n",
    "* [2999, 231234]\n",
    "* [0, 0]\n",
    "\n",
    "In addition, create a test that checks that `InvalidParamsException` is raised correctly if you give something else than an int to the function. Check for: string, float, dict, list."
   ]
  },
  {
   "cell_type": "code",
   "execution_count": 26,
   "metadata": {},
   "outputs": [],
   "source": [
    "def substraction(number_one: int, number_two: int) -> int:\n",
    "    if not isinstance(number_one, int) or not isinstance(number_two, int):\n",
    "        raise InvalidParamsException(\"A param is not an int!\")\n",
    "    return number_one - number_two"
   ]
  },
  {
   "cell_type": "code",
   "execution_count": 27,
   "metadata": {},
   "outputs": [
    {
     "name": "stderr",
     "output_type": "stream",
     "text": [
      "..\n",
      "----------------------------------------------------------------------\n",
      "Ran 2 tests in 0.010s\n",
      "\n",
      "OK\n"
     ]
    },
    {
     "data": {
      "text/plain": [
       "<unittest.main.TestProgram at 0x1d6458ac608>"
      ]
     },
     "execution_count": 27,
     "metadata": {},
     "output_type": "execute_result"
    }
   ],
   "source": [
    "# Add your unit test here\n",
    "class TestSubFunctions(unittest.TestCase):\n",
    "    \"\"\"Class that will test all the math related functions.\"\"\"\n",
    "\n",
    "    def test_substraction(self):\n",
    "        \"\"\"Test the addition function.\"\"\"\n",
    "        test_1 = substraction(1, 1)\n",
    "        test_2 = substraction(2, 3)\n",
    "        test_3 = substraction(5, -5)\n",
    "\n",
    "        self.assertEqual(test_1, 0)\n",
    "        self.assertEqual(test_2, -1)\n",
    "        self.assertEqual(test_3, 10)\n",
    "        self.assertRaises(InvalidParamsException, substraction,\"coucou\", 4)\n",
    "        self.assertRaises(InvalidParamsException, substraction, 0.5, 3)\n",
    "        self.assertRaises(InvalidParamsException, substraction, {\"cou\" : \"cou\"}, 7)\n",
    "        self.assertRaises(InvalidParamsException, substraction, [2,1,2], 6)\n",
    "          \n",
    "\n",
    "\n",
    "unittest.main(argv=['first-arg-is-ignored'], exit=False)"
   ]
  },
  {
   "cell_type": "markdown",
   "metadata": {},
   "source": [
    "## Divide\n",
    "Here is a function that returns a float and can take a float or an int as parameter.\n",
    "\n",
    "Create a test that will check the result of those params:\n",
    "* [1, 1]\n",
    "* [2, 3]\n",
    "* [5, 2]\n",
    "* [20, 4]\n",
    "* [0, 200]\n",
    "* [2999, 231234]\n",
    "* [0, 0]\n",
    "* [5, 0]\n",
    "* [5, \"9\"]\n",
    "* [ 5, [1, 2] ]\n",
    "* [2. {\"param2\": 2}]\n",
    "\n",
    "For each param, check that the result is the expected type (a string if one the params is bad else a float)."
   ]
  },
  {
   "cell_type": "code",
   "execution_count": 38,
   "metadata": {},
   "outputs": [],
   "source": [
    "from typing import Union\n",
    "\n",
    "def divide(number_one: Union[int, float], number_two: Union[int, float]) -> Union[float, str]:\n",
    "    try:\n",
    "        result = number_one / number_two\n",
    "    except ZeroDivisionError:\n",
    "        result = \"You can't divide by zero!\"\n",
    "    except Exception as ex:\n",
    "        result = f\"A param is not an int or a float! -> {ex}\"\n",
    "\n",
    "    return result"
   ]
  },
  {
   "cell_type": "code",
   "execution_count": 41,
   "metadata": {},
   "outputs": [
    {
     "name": "stderr",
     "output_type": "stream",
     "text": [
      "...\n",
      "----------------------------------------------------------------------\n",
      "Ran 3 tests in 0.012s\n",
      "\n",
      "OK\n"
     ]
    },
    {
     "data": {
      "text/plain": [
       "<unittest.main.TestProgram at 0x1d645431b08>"
      ]
     },
     "execution_count": 41,
     "metadata": {},
     "output_type": "execute_result"
    }
   ],
   "source": [
    "# Add your unit test here\n",
    "\n",
    "class TestDiv(unittest.TestCase):\n",
    "    \n",
    "    def testDivision(self):\n",
    "        test_1 = divide(1, 1)\n",
    "        test_2 = divide(2, 3)\n",
    "        test_3 = divide(5, 2)\n",
    "        test_4 = divide(20, 4)\n",
    "        test_5 = divide(0, 200)\n",
    "        test_6 = divide(2999, 231234)\n",
    "        test_7 = divide(0, 0)\n",
    "        test_8 = divide(5, 0)\n",
    "        test_9 = divide(5, \"9\")\n",
    "        test_10 = divide(5, [1, 2] )\n",
    "        test_11 = divide(2, {\"param2\": 2})\n",
    "        \n",
    "        self.assertEqual(type(test_1), type(1.0))\n",
    "        self.assertEqual(type(test_2), type(1.0))\n",
    "        self.assertEqual(type(test_3), type(1.0))\n",
    "        self.assertEqual(type(test_4), type(1.0))\n",
    "        self.assertEqual(type(test_5), type(1.0))\n",
    "        self.assertEqual(type(test_6), type(1.0))\n",
    "        self.assertEqual(type(test_7), type(\"a\"))\n",
    "        self.assertEqual(type(test_8), type(\"a\"))\n",
    "        self.assertEqual(type(test_9), type(\"a\"))\n",
    "        self.assertEqual(type(test_10), type(\"a\"))\n",
    "        self.assertEqual(type(test_11), type(\"a\"))\n",
    "        \n",
    "unittest.main(argv=['first-arg-is-ignored'], exit=False)"
   ]
  },
  {
   "cell_type": "markdown",
   "metadata": {},
   "source": [
    "## File handling\n",
    "\n",
    "1. Create a function `create_and_delete_test_file()` that creates a new file named 'test.txt' and add 'this is a text' in it then delete the file.\n",
    "2. Create a test that checks if the file is well created.\n",
    "3. Create a test to check that the content of the file is 'this is a text'. You will need to find a way to prevent the function to delete the file during this specific test.\n",
    "4. Create a test to check that the function deletes the file"
   ]
  },
  {
   "cell_type": "code",
   "execution_count": 28,
   "metadata": {},
   "outputs": [],
   "source": [
    "# Create create_and_delete_test_file()"
   ]
  },
  {
   "cell_type": "code",
   "execution_count": 29,
   "metadata": {},
   "outputs": [],
   "source": [
    "# Add your unit test here"
   ]
  }
 ],
 "metadata": {
  "kernelspec": {
   "display_name": "Python 3",
   "language": "python",
   "name": "python3"
  },
  "language_info": {
   "codemirror_mode": {
    "name": "ipython",
    "version": 3
   },
   "file_extension": ".py",
   "mimetype": "text/x-python",
   "name": "python",
   "nbconvert_exporter": "python",
   "pygments_lexer": "ipython3",
   "version": "3.7.10"
  }
 },
 "nbformat": 4,
 "nbformat_minor": 4
}
