{
 "cells": [
  {
   "cell_type": "markdown",
   "metadata": {},
   "source": [
    "### Type hints : drill"
   ]
  },
  {
   "cell_type": "markdown",
   "metadata": {},
   "source": [
    "Write a function with annotations that changes an ```int``` into a ```str```. "
   ]
  },
  {
   "cell_type": "code",
   "execution_count": 4,
   "metadata": {},
   "outputs": [
    {
     "name": "stdout",
     "output_type": "stream",
     "text": [
      "<class 'str'>\n"
     ]
    }
   ],
   "source": [
    "def change(num : int) -> str:\n",
    "    return str(num)\n",
    "\n",
    "print(type(change(2)))"
   ]
  },
  {
   "cell_type": "markdown",
   "metadata": {},
   "source": [
    "Now one that divides an ```int``` by another."
   ]
  },
  {
   "cell_type": "code",
   "execution_count": 6,
   "metadata": {},
   "outputs": [
    {
     "name": "stdout",
     "output_type": "stream",
     "text": [
      "3.3333333333333335\n"
     ]
    }
   ],
   "source": [
    "def divide(num: int, diviser: int) -> float:\n",
    "    return num/diviser\n",
    "\n",
    "print(divide(10,3))"
   ]
  },
  {
   "cell_type": "markdown",
   "metadata": {},
   "source": [
    "Annotate the function declaration below."
   ]
  },
  {
   "cell_type": "code",
   "execution_count": 9,
   "metadata": {},
   "outputs": [],
   "source": [
    "from typing import Optional\n",
    "def send_email(address : str,\n",
    "               sender : str,\n",
    "               cc : str,\n",
    "               cci : str,\n",
    "               subject :str ='',\n",
    "               body : str = None\n",
    "               ) -> Optional[str]:\n",
    "    pass"
   ]
  },
  {
   "cell_type": "markdown",
   "metadata": {},
   "source": [
    "Given the next strings :\n",
    "```\n",
    "suits = \"♠ ♡ ♢ ♣\".split()\n",
    "ranks = \"2 3 4 5 6 7 8 9 10 J Q K A\".split()\n",
    "```\n"
   ]
  },
  {
   "cell_type": "markdown",
   "metadata": {},
   "source": [
    "Define ```Card```, ```Deck``` and ```Players``` Type **aliases**."
   ]
  },
  {
   "cell_type": "code",
   "execution_count": 11,
   "metadata": {},
   "outputs": [],
   "source": [
    "from typing import Dict, List\n",
    "Card : Dict[str, str]\n",
    "Deck : List[Dict]\n",
    "Players : List[str]"
   ]
  },
  {
   "cell_type": "markdown",
   "metadata": {},
   "source": [
    "Write a program that will create and shuffle the deck. Then distribute the cards to 4 players. Using annotations."
   ]
  },
  {
   "cell_type": "code",
   "execution_count": 21,
   "metadata": {},
   "outputs": [
    {
     "name": "stdout",
     "output_type": "stream",
     "text": [
      "[{'suit': '♠', 'rank': 'A'}, {'suit': '♢', 'rank': '10'}, {'suit': '♡', 'rank': 'J'}, {'suit': '♡', 'rank': '5'}, {'suit': '♠', 'rank': '4'}, {'suit': '♠', 'rank': '10'}, {'suit': '♣', 'rank': '6'}, {'suit': '♠', 'rank': 'J'}, {'suit': '♠', 'rank': 'K'}, {'suit': '♢', 'rank': 'A'}, {'suit': '♠', 'rank': '6'}, {'suit': '♡', 'rank': '3'}, {'suit': '♢', 'rank': '9'}, {'suit': '♢', 'rank': 'K'}, {'suit': '♢', 'rank': '4'}, {'suit': '♣', 'rank': 'A'}, {'suit': '♢', 'rank': 'J'}, {'suit': '♣', 'rank': '2'}, {'suit': '♡', 'rank': '10'}, {'suit': '♡', 'rank': '8'}, {'suit': '♢', 'rank': '2'}, {'suit': '♢', 'rank': '8'}, {'suit': '♠', 'rank': 'Q'}, {'suit': '♣', 'rank': '8'}, {'suit': '♡', 'rank': '9'}, {'suit': '♣', 'rank': '10'}, {'suit': '♠', 'rank': '5'}, {'suit': '♣', 'rank': 'K'}, {'suit': '♣', 'rank': 'J'}, {'suit': '♣', 'rank': '5'}, {'suit': '♠', 'rank': '3'}, {'suit': '♡', 'rank': 'Q'}, {'suit': '♣', 'rank': '3'}, {'suit': '♣', 'rank': '7'}, {'suit': '♢', 'rank': '5'}, {'suit': '♡', 'rank': '2'}, {'suit': '♡', 'rank': '4'}, {'suit': '♣', 'rank': '9'}, {'suit': '♢', 'rank': '3'}, {'suit': '♠', 'rank': '2'}, {'suit': '♡', 'rank': '6'}, {'suit': '♡', 'rank': 'A'}, {'suit': '♣', 'rank': '4'}, {'suit': '♡', 'rank': 'K'}, {'suit': '♢', 'rank': '7'}, {'suit': '♠', 'rank': '8'}, {'suit': '♢', 'rank': 'Q'}, {'suit': '♠', 'rank': '9'}, {'suit': '♡', 'rank': '7'}, {'suit': '♣', 'rank': 'Q'}, {'suit': '♢', 'rank': '6'}, {'suit': '♠', 'rank': '7'}]\n",
      "['player0', 'player1', 'player2', 'player3']\n",
      "{0: [{'suit': '♠', 'rank': 'A'}, {'suit': '♠', 'rank': '4'}, {'suit': '♠', 'rank': 'K'}, {'suit': '♢', 'rank': '9'}, {'suit': '♢', 'rank': 'J'}, {'suit': '♢', 'rank': '2'}, {'suit': '♡', 'rank': '9'}, {'suit': '♣', 'rank': 'J'}, {'suit': '♣', 'rank': '3'}, {'suit': '♡', 'rank': '4'}, {'suit': '♡', 'rank': '6'}, {'suit': '♢', 'rank': '7'}, {'suit': '♡', 'rank': '7'}], 1: [{'suit': '♢', 'rank': '10'}, {'suit': '♠', 'rank': '10'}, {'suit': '♢', 'rank': 'A'}, {'suit': '♢', 'rank': 'K'}, {'suit': '♣', 'rank': '2'}, {'suit': '♢', 'rank': '8'}, {'suit': '♣', 'rank': '10'}, {'suit': '♣', 'rank': '5'}, {'suit': '♣', 'rank': '7'}, {'suit': '♣', 'rank': '9'}, {'suit': '♡', 'rank': 'A'}, {'suit': '♠', 'rank': '8'}, {'suit': '♣', 'rank': 'Q'}], 2: [{'suit': '♡', 'rank': 'J'}, {'suit': '♣', 'rank': '6'}, {'suit': '♠', 'rank': '6'}, {'suit': '♢', 'rank': '4'}, {'suit': '♡', 'rank': '10'}, {'suit': '♠', 'rank': 'Q'}, {'suit': '♠', 'rank': '5'}, {'suit': '♠', 'rank': '3'}, {'suit': '♢', 'rank': '5'}, {'suit': '♢', 'rank': '3'}, {'suit': '♣', 'rank': '4'}, {'suit': '♢', 'rank': 'Q'}, {'suit': '♢', 'rank': '6'}], 3: [{'suit': '♡', 'rank': '5'}, {'suit': '♠', 'rank': 'J'}, {'suit': '♡', 'rank': '3'}, {'suit': '♣', 'rank': 'A'}, {'suit': '♡', 'rank': '8'}, {'suit': '♣', 'rank': '8'}, {'suit': '♣', 'rank': 'K'}, {'suit': '♡', 'rank': 'Q'}, {'suit': '♡', 'rank': '2'}, {'suit': '♠', 'rank': '2'}, {'suit': '♡', 'rank': 'K'}, {'suit': '♠', 'rank': '9'}, {'suit': '♠', 'rank': '7'}]}\n"
     ]
    }
   ],
   "source": [
    "import random\n",
    "\n",
    "suits = \"♠ ♡ ♢ ♣\".split()\n",
    "ranks = \"2 3 4 5 6 7 8 9 10 J Q K A\".split()\n",
    "Deck = []\n",
    "Players = []\n",
    "for suit in suits:\n",
    "    for rank in ranks:\n",
    "        card={\"suit\":suit, \"rank\":rank}\n",
    "        Deck.append(card)\n",
    "        \n",
    "random.shuffle(Deck)\n",
    "print(Deck)\n",
    "\n",
    "for i in range(4):\n",
    "    Players.append(\"player\"+str(i))\n",
    "print(Players)\n",
    "\n",
    "hands = {0:[],1:[],2:[],3:[]}\n",
    "\n",
    "distribute = 0\n",
    "for card in Deck:\n",
    "    hands[distribute%4].append(card)\n",
    "    distribute+=1\n",
    "\n",
    "print(hands)"
   ]
  },
  {
   "cell_type": "code",
   "execution_count": null,
   "metadata": {},
   "outputs": [],
   "source": []
  },
  {
   "cell_type": "code",
   "execution_count": null,
   "metadata": {},
   "outputs": [],
   "source": []
  }
 ],
 "metadata": {
  "kernelspec": {
   "display_name": "Python 3",
   "language": "python",
   "name": "python3"
  },
  "language_info": {
   "codemirror_mode": {
    "name": "ipython",
    "version": 3
   },
   "file_extension": ".py",
   "mimetype": "text/x-python",
   "name": "python",
   "nbconvert_exporter": "python",
   "pygments_lexer": "ipython3",
   "version": "3.7.10"
  }
 },
 "nbformat": 4,
 "nbformat_minor": 2
}
