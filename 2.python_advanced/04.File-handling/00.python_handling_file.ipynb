{
 "cells": [
  {
   "cell_type": "markdown",
   "metadata": {},
   "source": [
    "# Read and write files"
   ]
  },
  {
   "cell_type": "markdown",
   "metadata": {},
   "source": [
    "We have made good progress and now we can get down to the serious business of manipulating data files. This is one of the very important points concerning this training. \n",
    "\n",
    "\n",
    "N.B: Most of the files in `./data/` are fiels that "
   ]
  },
  {
   "cell_type": "markdown",
   "metadata": {},
   "source": [
    "To open/edit a file in python we use the `open()` function.\n",
    "\n",
    "This function takes as first parameter the path of the file (*relative* or *absolute*) and as second parameter the type of opening, i.e. reading or writing mode.\n",
    "\n",
    "*A relative path in computing is a path that takes into account the current location.*\n",
    "The path is **relative** to where it is called from.\n",
    "\n",
    "*An absolute path is a complete path that can be read regardless of the reading location.*\n",
    "\n"
   ]
  },
  {
   "cell_type": "code",
   "execution_count": 1,
   "metadata": {},
   "outputs": [],
   "source": [
    "f = open(\"./data/data.txt\", \"r\") # r for \"read\""
   ]
  },
  {
   "cell_type": "markdown",
   "metadata": {},
   "source": [
    "- `\"r\"`, for a read opening (READ).\n",
    "\n",
    "- `\"w\"`, for a write opening (WRITE), each time the file is opened, the content of the file is overwritten. If the file does not exist, python creates it. \n",
    "\n",
    "    *The Python docs say that w+ will \"overwrite the existing file if the file exists\". So as soon as you open a file with w+, it is now an empty file: it contains 0 bytes. If it used to contain data, that data has been truncated — cut off and thrown away — and now the file size is 0 bytes, so you can't read any of the data that existed before you opened the file with w+. If you actually wanted to read the previous data and add to it, you should use r+ instead of w+* [[Source]](https://stackoverflow.com/questions/16208206/confused-by-python-file-mode-w#comment83227862_16208298)\n",
    "    \n",
    "    \n",
    "\n",
    "- `\"a\"`, for an opening in add mode at the end of the file (APPEND). If the file does not exist, python creates it.\n",
    "\n",
    "- `\"x\"`, creates a new file and opens it for writing\n",
    "\n",
    "You can also append a `+` and a `b` to nearly all of the above commands. [[More info here]](https://stackabuse.com/file-handling-in-python/)"
   ]
  },
  {
   "cell_type": "markdown",
   "metadata": {},
   "source": [
    "Like any open element, it must be closed again once the instructions have been completed. To do this, we use the `close()` method."
   ]
  },
  {
   "cell_type": "code",
   "execution_count": 2,
   "metadata": {},
   "outputs": [],
   "source": [
    "f.close()"
   ]
  },
  {
   "cell_type": "code",
   "execution_count": 5,
   "metadata": {},
   "outputs": [
    {
     "output_type": "stream",
     "name": "stdout",
     "text": [
      "Alan Mathison Turing OBE FRS (/ËˆtjÊŠÉ™rÉªÅ‹/; 23 June 1912 â€“ 7 June 1954) was an English mathematician, computer scientist, logician, cryptanalyst, philosopher and theoretical biologist.[5] Turing was highly influential in the development of theoretical computer science, providing a formalisation of the concepts of algorithm and computation with the Turing machine, which can be considered a model of a general-purpose computer.[6][7][8] Turing is widely considered to be the father of theoretical computer science and artificial intelligence.[9] Despite these accomplishments, he was never fully recognised in his home country during his lifetime, due to his homosexuality, which was then a crime in the UK.\n\nDuring the Second World War, Turing worked for the Government Code and Cypher School (GC&CS) at Bletchley Park, Britain's codebreaking centre that produced Ultra intelligence. For a time he led Hut 8, the section that was responsible for German naval cryptanalysis. Here, he devised a number of techniques for speeding the breaking of German ciphers, including improvements to the pre-war Polish bombe method, an electromechanical machine that could find settings for the Enigma machine.\n\nTuring played a pivotal role in cracking intercepted coded messages that enabled the Allies to defeat the Nazis in many crucial engagements, including the Battle of the Atlantic, and in so doing helped win the war.[10][11] Counterfactual history is difficult with respect to the effect Ultra intelligence had on the length of the war,[12] but at the upper end it has been estimated that this work shortened the war in Europe by more than two years and saved over 14 million lives.[10]\n\nAfter the war, Turing worked at the National Physical Laboratory, where he designed the Automatic Computing Engine, which was one of the first designs for a stored-program computer. In 1948, Turing joined Max Newman's Computing Machine Laboratory at the Victoria University of Manchester, where he helped develop the Manchester computers[13] and became interested in mathematical biology. He wrote a paper on the chemical basis of morphogenesis[1] and predicted oscillating chemical reactions such as the Belousovâ€“Zhabotinsky reaction, first observed in the 1960s.\n\nTuring was prosecuted in 1952 for homosexual acts; the Labouchere Amendment had mandated that \"gross indecency\" was a criminal offence in the UK. He accepted chemical castration treatment, with DES, as an alternative to prison. Turing died in 1954, 16 days before his 42nd birthday, from cyanide poisoning. An inquest determined his death as a suicide, but it has been noted that the known evidence is also consistent with accidental poisoning.[14]\n\nIn 2009, following an Internet campaign, British Prime Minister Gordon Brown made an official public apology on behalf of the British government for \"the appalling way he was treated\". Queen Elizabeth II granted Turing a posthumous pardon in 2013.[15][16][17] The Alan Turing law is now an informal term for a 2017 law in the United Kingdom that retroactively pardoned men cautioned or convicted under historical legislation that outlawed homosexual acts.[18] \n\n"
     ]
    }
   ],
   "source": [
    "# Let's find out what's going on there\n",
    "f = open(\"./data/data.txt\", \"r\")\n",
    "print (f.read())\n",
    "f.close()"
   ]
  },
  {
   "cell_type": "markdown",
   "metadata": {},
   "source": [
    "Other possibility of opening without closing"
   ]
  },
  {
   "cell_type": "code",
   "execution_count": 6,
   "metadata": {},
   "outputs": [
    {
     "output_type": "stream",
     "name": "stdout",
     "text": [
      "Alan Mathison Turing OBE FRS (/ËˆtjÊŠÉ™rÉªÅ‹/; 23 June 1912 â€“ 7 June 1954) was an English mathematician, computer scientist, logician, cryptanalyst, philosopher and theoretical biologist.[5] Turing was highly influential in the development of theoretical computer science, providing a formalisation of the concepts of algorithm and computation with the Turing machine, which can be considered a model of a general-purpose computer.[6][7][8] Turing is widely considered to be the father of theoretical computer science and artificial intelligence.[9] Despite these accomplishments, he was never fully recognised in his home country during his lifetime, due to his homosexuality, which was then a crime in the UK.\n\nDuring the Second World War, Turing worked for the Government Code and Cypher School (GC&CS) at Bletchley Park, Britain's codebreaking centre that produced Ultra intelligence. For a time he led Hut 8, the section that was responsible for German naval cryptanalysis. Here, he devised a number of techniques for speeding the breaking of German ciphers, including improvements to the pre-war Polish bombe method, an electromechanical machine that could find settings for the Enigma machine.\n\nTuring played a pivotal role in cracking intercepted coded messages that enabled the Allies to defeat the Nazis in many crucial engagements, including the Battle of the Atlantic, and in so doing helped win the war.[10][11] Counterfactual history is difficult with respect to the effect Ultra intelligence had on the length of the war,[12] but at the upper end it has been estimated that this work shortened the war in Europe by more than two years and saved over 14 million lives.[10]\n\nAfter the war, Turing worked at the National Physical Laboratory, where he designed the Automatic Computing Engine, which was one of the first designs for a stored-program computer. In 1948, Turing joined Max Newman's Computing Machine Laboratory at the Victoria University of Manchester, where he helped develop the Manchester computers[13] and became interested in mathematical biology. He wrote a paper on the chemical basis of morphogenesis[1] and predicted oscillating chemical reactions such as the Belousovâ€“Zhabotinsky reaction, first observed in the 1960s.\n\nTuring was prosecuted in 1952 for homosexual acts; the Labouchere Amendment had mandated that \"gross indecency\" was a criminal offence in the UK. He accepted chemical castration treatment, with DES, as an alternative to prison. Turing died in 1954, 16 days before his 42nd birthday, from cyanide poisoning. An inquest determined his death as a suicide, but it has been noted that the known evidence is also consistent with accidental poisoning.[14]\n\nIn 2009, following an Internet campaign, British Prime Minister Gordon Brown made an official public apology on behalf of the British government for \"the appalling way he was treated\". Queen Elizabeth II granted Turing a posthumous pardon in 2013.[15][16][17] The Alan Turing law is now an informal term for a 2017 law in the United Kingdom that retroactively pardoned men cautioned or convicted under historical legislation that outlawed homosexual acts.[18] \n\n"
     ]
    }
   ],
   "source": [
    "with open(\"./data/data.txt\", \"r\") as fichier:\n",
    "    print (fichier.read())"
   ]
  },
  {
   "cell_type": "markdown",
   "metadata": {},
   "source": [
    "Can you put the contents of this file in the form of a list in which each element is a sentence ?  \n",
    "*(Use `.split()` for example...)*"
   ]
  },
  {
   "cell_type": "code",
   "execution_count": 12,
   "metadata": {},
   "outputs": [
    {
     "output_type": "stream",
     "name": "stdout",
     "text": [
      "Alan Mathison Turing OBE FRS (/ËˆtjÊŠÉ™rÉªÅ‹/; 23 June 1912 â€“ 7 June 1954) was an English mathematician, computer scientist, logician, cryptanalyst, philosopher and theoretical biologist\n[5] Turing was highly influential in the development of theoretical computer science, providing a formalisation of the concepts of algorithm and computation with the Turing machine, which can be considered a model of a general-purpose computer\n[6][7][8] Turing is widely considered to be the father of theoretical computer science and artificial intelligence\n[9] Despite these accomplishments, he was never fully recognised in his home country during his lifetime, due to his homosexuality, which was then a crime in the UK\n\n\nDuring the Second World War, Turing worked for the Government Code and Cypher School (GC&CS) at Bletchley Park, Britain's codebreaking centre that produced Ultra intelligence\n For a time he led Hut 8, the section that was responsible for German naval cryptanalysis\n Here, he devised a number of techniques for speeding the breaking of German ciphers, including improvements to the pre-war Polish bombe method, an electromechanical machine that could find settings for the Enigma machine\n\n\nTuring played a pivotal role in cracking intercepted coded messages that enabled the Allies to defeat the Nazis in many crucial engagements, including the Battle of the Atlantic, and in so doing helped win the war\n[10][11] Counterfactual history is difficult with respect to the effect Ultra intelligence had on the length of the war,[12] but at the upper end it has been estimated that this work shortened the war in Europe by more than two years and saved over 14 million lives\n[10]\n\nAfter the war, Turing worked at the National Physical Laboratory, where he designed the Automatic Computing Engine, which was one of the first designs for a stored-program computer\n In 1948, Turing joined Max Newman's Computing Machine Laboratory at the Victoria University of Manchester, where he helped develop the Manchester computers[13] and became interested in mathematical biology\n He wrote a paper on the chemical basis of morphogenesis[1] and predicted oscillating chemical reactions such as the Belousovâ€“Zhabotinsky reaction, first observed in the 1960s\n\n\nTuring was prosecuted in 1952 for homosexual acts; the Labouchere Amendment had mandated that \"gross indecency\" was a criminal offence in the UK\n He accepted chemical castration treatment, with DES, as an alternative to prison\n Turing died in 1954, 16 days before his 42nd birthday, from cyanide poisoning\n An inquest determined his death as a suicide, but it has been noted that the known evidence is also consistent with accidental poisoning\n[14]\n\nIn 2009, following an Internet campaign, British Prime Minister Gordon Brown made an official public apology on behalf of the British government for \"the appalling way he was treated\"\n Queen Elizabeth II granted Turing a posthumous pardon in 2013\n[15][16][17] The Alan Turing law is now an informal term for a 2017 law in the United Kingdom that retroactively pardoned men cautioned or convicted under historical legislation that outlawed homosexual acts\n[18] \n\n"
     ]
    }
   ],
   "source": [
    "f = open(\"./data/data.txt\", \"r\")\n",
    "\n",
    "d= f.read().split(\".\")\n",
    "for s in d:\n",
    "    print(s)\n",
    "f.close()"
   ]
  },
  {
   "cell_type": "markdown",
   "metadata": {},
   "source": [
    "To write in a file, just open a file (existing or not), write in it and close it,. We open it in mode `\"w\"` so that the previous data is deleted and new data can be added."
   ]
  },
  {
   "cell_type": "code",
   "execution_count": 13,
   "metadata": {},
   "outputs": [],
   "source": [
    "file = open(\"./data/write.txt\", \"w\")\n",
    "file.write(\"Hi everyone, I'm adding sentences to the file !\")\n",
    "file.close()"
   ]
  },
  {
   "cell_type": "markdown",
   "metadata": {},
   "source": [
    "Can you take the content of the `data.txt` file from the `.data/` directory, capitalize all the words and write them in the file that you created just before, after the sentences you added?\n"
   ]
  },
  {
   "cell_type": "code",
   "execution_count": 14,
   "metadata": {},
   "outputs": [
    {
     "output_type": "stream",
     "name": "stdout",
     "text": [
      "Hi everyone, I'm adding sentences to the file !Alan mathison turing obe frs (/ëˆtjêšé™réªå‹/; 23 june 1912 â€“ 7 june 1954) was an english mathematician, computer scientist, logician, cryptanalyst, philosopher and theoretical biologist[5] turing was highly influential in the development of theoretical computer science, providing a formalisation of the concepts of algorithm and computation with the turing machine, which can be considered a model of a general-purpose computer[6][7][8] turing is widely considered to be the father of theoretical computer science and artificial intelligence[9] despite these accomplishments, he was never fully recognised in his home country during his lifetime, due to his homosexuality, which was then a crime in the uk\n\nduring the second world war, turing worked for the government code and cypher school (gc&cs) at bletchley park, britain's codebreaking centre that produced ultra intelligence for a time he led hut 8, the section that was responsible for german naval cryptanalysis here, he devised a number of techniques for speeding the breaking of german ciphers, including improvements to the pre-war polish bombe method, an electromechanical machine that could find settings for the enigma machine\n\nturing played a pivotal role in cracking intercepted coded messages that enabled the allies to defeat the nazis in many crucial engagements, including the battle of the atlantic, and in so doing helped win the war[10][11] counterfactual history is difficult with respect to the effect ultra intelligence had on the length of the war,[12] but at the upper end it has been estimated that this work shortened the war in europe by more than two years and saved over 14 million lives[10]\n\nafter the war, turing worked at the national physical laboratory, where he designed the automatic computing engine, which was one of the first designs for a stored-program computer in 1948, turing joined max newman's computing machine laboratory at the victoria university of manchester, where he helped develop the manchester computers[13] and became interested in mathematical biology he wrote a paper on the chemical basis of morphogenesis[1] and predicted oscillating chemical reactions such as the belousovâ€“zhabotinsky reaction, first observed in the 1960s\n\nturing was prosecuted in 1952 for homosexual acts; the labouchere amendment had mandated that \"gross indecency\" was a criminal offence in the uk he accepted chemical castration treatment, with des, as an alternative to prison turing died in 1954, 16 days before his 42nd birthday, from cyanide poisoning an inquest determined his death as a suicide, but it has been noted that the known evidence is also consistent with accidental poisoning[14]\n\nin 2009, following an internet campaign, british prime minister gordon brown made an official public apology on behalf of the british government for \"the appalling way he was treated\" queen elizabeth ii granted turing a posthumous pardon in 2013[15][16][17] the alan turing law is now an informal term for a 2017 law in the united kingdom that retroactively pardoned men cautioned or convicted under historical legislation that outlawed homosexual acts[18] \n\n"
     ]
    }
   ],
   "source": [
    "# It's up to you to write the end \n",
    "arr =[]\n",
    "with open(\"./data/write.txt\", \"a\") as fichier:\n",
    "    for s in d:\n",
    "        fichier.write(s.capitalize())\n",
    "\n",
    "\n",
    "with open(\"./data/write.txt\", \"r\") as fichier:\n",
    "    print(fichier.read())\n"
   ]
  },
  {
   "cell_type": "markdown",
   "metadata": {},
   "source": [
    "## Management of directory paths..."
   ]
  },
  {
   "cell_type": "markdown",
   "metadata": {},
   "source": [
    "The `os` module is a library that provides portable way of using operating system dependent functionality.\n",
    "In this chapter, we are interested in using its powerful file path handling capabilities using `os.path`"
   ]
  },
  {
   "cell_type": "code",
   "execution_count": 15,
   "metadata": {},
   "outputs": [],
   "source": [
    "import os"
   ]
  },
  {
   "cell_type": "markdown",
   "metadata": {},
   "source": [
    "Each file or folder is associated with a kind of address that makes it easy to find it without errors. It is not possible to identically name a file in the same folder (except if the extension is different).\n",
    "\n",
    "As said before, there are two kind of paths: the absolute path from the root of your file system and the relative path from the folder being read."
   ]
  },
  {
   "cell_type": "code",
   "execution_count": null,
   "metadata": {},
   "outputs": [],
   "source": [
    "import os.path"
   ]
  },
  {
   "cell_type": "markdown",
   "metadata": {},
   "source": [
    "By looking with the help function, we can see the available methods"
   ]
  },
  {
   "cell_type": "code",
   "execution_count": null,
   "metadata": {},
   "outputs": [],
   "source": [
    "help(os.path)"
   ]
  },
  {
   "cell_type": "markdown",
   "metadata": {},
   "source": [
    "To know your current absolute path, use `abspath('')`"
   ]
  },
  {
   "cell_type": "code",
   "execution_count": null,
   "metadata": {},
   "outputs": [],
   "source": [
    "# In python a path is a string, so there are methods to manipulate it.\n",
    "path=os.path.abspath('')\n",
    "print(path)\n",
    "print(type(path))"
   ]
  },
  {
   "cell_type": "markdown",
   "metadata": {},
   "source": [
    " To know the part of the path that consists of directories, use `dirname(path)`."
   ]
  },
  {
   "cell_type": "code",
   "execution_count": null,
   "metadata": {},
   "outputs": [],
   "source": [
    "os.path.dirname(path)"
   ]
  },
  {
   "cell_type": "markdown",
   "metadata": {},
   "source": [
    " To know the part of the path that is your file only, use `basename(path)`."
   ]
  },
  {
   "cell_type": "code",
   "execution_count": null,
   "metadata": {},
   "outputs": [],
   "source": [
    "os.path.basename(path)"
   ]
  },
  {
   "cell_type": "markdown",
   "metadata": {},
   "source": [
    "To add a directory, let's say \"text\" to the path, we use `join()`"
   ]
  },
  {
   "cell_type": "code",
   "execution_count": null,
   "metadata": {},
   "outputs": [],
   "source": [
    "rep_text=os.path.join(path, \"text\")\n",
    "print(rep_text)"
   ]
  },
  {
   "cell_type": "markdown",
   "metadata": {},
   "source": [
    "Too retrieve all the elements of a folder as a list, you can use the `listdir()` method"
   ]
  },
  {
   "cell_type": "code",
   "execution_count": null,
   "metadata": {},
   "outputs": [],
   "source": [
    "# Items are returned as a list and includes folders and hidden files.\n",
    "os.listdir(\"../\")"
   ]
  },
  {
   "cell_type": "markdown",
   "metadata": {},
   "source": [
    "### How to display all the elements of a folder as well as its child folders? \n",
    "\n",
    "With the function `walk()`:\n",
    "\n",
    "```\n",
    "walk(top, topdown=True, onerror=None, followlinks=False)\n",
    "```\n"
   ]
  },
  {
   "cell_type": "code",
   "execution_count": null,
   "metadata": {},
   "outputs": [],
   "source": [
    "folder_path = os.path.abspath('./')\n",
    "print(folder_path)\n",
    "\n",
    "for path, dirs, files in os.walk(folder_path):\n",
    "    for filename in files:\n",
    "        print(filename)"
   ]
  },
  {
   "cell_type": "markdown",
   "metadata": {},
   "source": [
    "Put all the **`.txt` files** from the `data/` directory into a variable.\n",
    "    Then, copy the content of all the files from this variable into a file in `data/` that you will name `final.txt`\n"
   ]
  },
  {
   "cell_type": "code",
   "execution_count": 11,
   "metadata": {},
   "outputs": [],
   "source": [
    "import re\n",
    "text =\"\"\n",
    "with open(\"./data/final.txt\", \"w\") as final:\n",
    "    files = os.listdir(\"data/\")\n",
    "    for filename in files:\n",
    "        if re.match(\".*.txt$\", filename):\n",
    "            f = open(\"./data/\"+filename, \"r\")\n",
    "            text+=f.read()\n",
    "            f.close()\n",
    "    final.write(text)"
   ]
  },
  {
   "cell_type": "markdown",
   "metadata": {},
   "source": [
    "New task. Can you open all the files from your `data/` directory and save all their contents in a variable,\n",
    "using a loop?"
   ]
  },
  {
   "cell_type": "code",
   "execution_count": 1,
   "metadata": {},
   "outputs": [],
   "source": [
    "arr=\"\"\n",
    "with open(\"./data/final.txt\", \"a\") as final:\n",
    "    for path, dirs, files in os.walk(\"./data/\"):\n",
    "        for filename in files:\n",
    "            try:\n",
    "                f = open(\"./data/\"+filename, \"r\")\n",
    "                arr+=f.read()\n",
    "                f.close()\n",
    "            except:\n",
    "                \"error in file\""
   ]
  },
  {
   "cell_type": "markdown",
   "metadata": {},
   "source": [
    "Finally, save this concatenated information (assemblies) in a new file."
   ]
  },
  {
   "cell_type": "code",
   "execution_count": 3,
   "metadata": {},
   "outputs": [
    {
     "output_type": "stream",
     "name": "stdout",
     "text": [
      "fini\n"
     ]
    }
   ],
   "source": [
    "with open(\"./data/concat.txt\", \"w\") as concat:\n",
    "    concat.write(arr)\n",
    "print(\"fini\")"
   ]
  },
  {
   "cell_type": "code",
   "execution_count": null,
   "metadata": {},
   "outputs": [],
   "source": []
  }
 ],
 "metadata": {
  "kernelspec": {
   "name": "python365jvsc74a57bd084b5e846f69b0d339ed1b8b9de481d25ae9ba08d5e61ebf13bfb427abfd083f9",
   "display_name": "Python 3.6.5 64-bit ('base': conda)"
  },
  "language_info": {
   "codemirror_mode": {
    "name": "ipython",
    "version": 3
   },
   "file_extension": ".py",
   "mimetype": "text/x-python",
   "name": "python",
   "nbconvert_exporter": "python",
   "pygments_lexer": "ipython3",
   "version": "3.6.5"
  }
 },
 "nbformat": 4,
 "nbformat_minor": 2
}