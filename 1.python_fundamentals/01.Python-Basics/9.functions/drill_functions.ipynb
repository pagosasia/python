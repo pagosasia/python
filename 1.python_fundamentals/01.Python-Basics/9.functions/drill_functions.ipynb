{
 "cells": [
  {
   "cell_type": "markdown",
   "metadata": {},
   "source": [
    "# Drill functions"
   ]
  },
  {
   "cell_type": "markdown",
   "metadata": {},
   "source": [
    "### 1. Say Hello\n",
    "Write a function called hello(name) that returns a string of characters. This function will take as argument a variable name. This function will return a string 'Hello name'"
   ]
  },
  {
   "cell_type": "markdown",
   "metadata": {},
   "source": [
    "Example :\n",
    "<pre><code>hello('Jean') => 'Hello Jean'</code></pre>\n",
    "<pre><code>hello() => 'Hello Anonymous' </code></pre>"
   ]
  },
  {
   "cell_type": "code",
   "execution_count": 32,
   "metadata": {},
   "outputs": [],
   "source": [
    "def hello(name = 'Anonymous'):\n",
    "    # your code here\n",
    "    return \"Hello \"+name"
   ]
  },
  {
   "cell_type": "markdown",
   "metadata": {},
   "source": [
    "### 2. Count students\n",
    "Create a function \"sumOfStudents()\" that calculates and returns the number of students in a list. The function will have to return an integer."
   ]
  },
  {
   "cell_type": "markdown",
   "metadata": {},
   "source": [
    "Example : \n",
    "<pre>\n",
    "    <code>\n",
    "sumOfStudents([[\"Jean\", \"Alice\", \"Edwige\", \"Peter\", \"James\"],\n",
    "               [\"Redouane\", \"Justine\", \"Adrien\", \"Nicolas\", \"Pierre\"]]) => 10\n",
    "    </code>\n",
    "</pre>"
   ]
  },
  {
   "cell_type": "code",
   "execution_count": 33,
   "metadata": {},
   "outputs": [],
   "source": [
    "def sumOfStudents(students):\n",
    "    # your code here \n",
    "    nbStudents = 0\n",
    "    for classrooms in students:\n",
    "        for student in classrooms:\n",
    "            nbStudents+=1\n",
    "    return nbStudents"
   ]
  },
  {
   "cell_type": "markdown",
   "metadata": {},
   "source": [
    "### 3.  Is divisible ?\n",
    "Create a function isDivisible(n, x, y) that checks if a number n is divisible by two numbers x AND y. All inputs are positive, non-zero digits."
   ]
  },
  {
   "cell_type": "markdown",
   "metadata": {},
   "source": [
    "Example:\n",
    "```\n",
    "is_divisible(3,1,3)--> True because 3 is divisible by 1 and 3\n",
    "is_divisible(12,2,6)--> True because 12 is divisible by 2 and 6\n",
    "is_divisible(100,5,3)--> False because 100 is not divisible by 3\n",
    "is_divisible(12,7,5)--> False because 12 is neither divisible by 7 nor 5\n",
    "```"
   ]
  },
  {
   "cell_type": "code",
   "execution_count": 34,
   "metadata": {},
   "outputs": [],
   "source": [
    "def is_divisible(n,x,y):\n",
    "    #your code here\n",
    "    if n%x==0 and n%y==0:\n",
    "        return True\n",
    "    return False"
   ]
  },
  {
   "cell_type": "markdown",
   "metadata": {},
   "source": [
    "### 4. Abbreviate a Two Words Name\n",
    "Write a function to convert a name into initials. This kata strictly takes two words with one space in between them."
   ]
  },
  {
   "cell_type": "markdown",
   "metadata": {},
   "source": [
    "Example : \n",
    "```\n",
    "Sam Harris => S.H\n",
    "\n",
    "Patrick Feeney => P.F\n",
    "```"
   ]
  },
  {
   "cell_type": "code",
   "execution_count": 35,
   "metadata": {},
   "outputs": [
    {
     "data": {
      "text/plain": [
       "'J.L'"
      ]
     },
     "execution_count": 35,
     "metadata": {},
     "output_type": "execute_result"
    }
   ],
   "source": [
    "def abbrevName(name):\n",
    "    #code away!\n",
    "    prenom, nom = name.split()\n",
    "    return prenom[0]+\".\"+nom[0]\n",
    "abbrevName(\"Jeremy Lipszyc\")"
   ]
  },
  {
   "cell_type": "markdown",
   "metadata": {},
   "source": [
    "### 5. Sum of positive \n",
    "You get an array of numbers, return the sum of all of the positives ones."
   ]
  },
  {
   "cell_type": "markdown",
   "metadata": {},
   "source": [
    "Example :  \n",
    "`` [1,-4,7,12] => 1 + 7 + 12 = 20``"
   ]
  },
  {
   "cell_type": "code",
   "execution_count": 36,
   "metadata": {},
   "outputs": [
    {
     "data": {
      "text/plain": [
       "6"
      ]
     },
     "execution_count": 36,
     "metadata": {},
     "output_type": "execute_result"
    }
   ],
   "source": [
    "def positive_sum(numbers):\n",
    "    total=0\n",
    "    for num in numbers:\n",
    "        if num>0:\n",
    "            total+=num\n",
    "    return total\n",
    "positive_sum([0,1,2,3,-1,-2,-3])"
   ]
  },
  {
   "cell_type": "markdown",
   "metadata": {},
   "source": [
    "### 6. Sum mixed array \n",
    "\n",
    "Given an array of integers as strings and numbers, return the sum of the array values as if all were numbers.\n",
    "\n",
    "Return your answer as a number.\n"
   ]
  },
  {
   "cell_type": "markdown",
   "metadata": {},
   "source": [
    "Example : \n",
    "```\n",
    "sum_mix(['5', '0', 9, 3, 2, 1, '9', 6, 7]) => 42\n",
    "```"
   ]
  },
  {
   "cell_type": "code",
   "execution_count": 37,
   "metadata": {},
   "outputs": [
    {
     "data": {
      "text/plain": [
       "42"
      ]
     },
     "execution_count": 37,
     "metadata": {},
     "output_type": "execute_result"
    }
   ],
   "source": [
    "def sum_mix(arr):\n",
    "    #your code here\n",
    "    total= 0\n",
    "    for item in arr:\n",
    "        if type(item) == type(\"aa\"):\n",
    "            item = int(item)\n",
    "        total+=item\n",
    "    return total\n",
    "sum_mix(['5', '0', 9, 3, 2, 1, '9', 6, 7])"
   ]
  },
  {
   "cell_type": "markdown",
   "metadata": {},
   "source": [
    "### 7. Return the day\n",
    "Complete the function which returns the weekday according to the input number:\n",
    "\n",
    "    1 returns \"Sunday\"\n",
    "    2 returns \"Monday\"\n",
    "    3 returns \"Tuesday\"\n",
    "    4 returns \"Wednesday\"\n",
    "    5 returns \"Thursday\"\n",
    "    6 returns \"Friday\"\n",
    "    7 returns \"Saturday\"\n",
    "    Otherwise returns \"Wrong, please enter a number between 1 and 7\"\n",
    "\n"
   ]
  },
  {
   "cell_type": "code",
   "execution_count": 38,
   "metadata": {},
   "outputs": [],
   "source": [
    "def whatday(num):\n",
    "  # Put your code here\n",
    "    switcher = {\n",
    "        1: \"Sunday\",\n",
    "        2: \"Monday\",\n",
    "        3: \"Tuesday\",\n",
    "        4: \"Wednesday\",\n",
    "        5: \"Thursday\",\n",
    "        6: \"Friday\",\n",
    "        7: \"Saturday\",\n",
    "        \n",
    "    }\n",
    "    return switcher.get(num, \"Wrong, please enter a number between 1 and 7\")"
   ]
  },
  {
   "cell_type": "markdown",
   "metadata": {},
   "source": [
    "### 8. Summation\n",
    "Write a program that finds the summation of every number from 1 to num. The number will always be a positive integer greater than 0.\n"
   ]
  },
  {
   "cell_type": "markdown",
   "metadata": {},
   "source": [
    "Example : \n",
    "```\n",
    "    summation(2) -> 3\n",
    "    1 + 2\n",
    "\n",
    "    summation(8) -> 36\n",
    "    1 + 2 + 3 + 4 + 5 + 6 + 7 + 8\n",
    "```"
   ]
  },
  {
   "cell_type": "code",
   "execution_count": 39,
   "metadata": {},
   "outputs": [
    {
     "data": {
      "text/plain": [
       "36"
      ]
     },
     "execution_count": 39,
     "metadata": {},
     "output_type": "execute_result"
    }
   ],
   "source": [
    "def summation(num):\n",
    "    if num <= 0:\n",
    "        return 0\n",
    "    it = 1\n",
    "    total = 0\n",
    "    while it <= num:\n",
    "        total+=it\n",
    "        it+=1\n",
    "    return total\n",
    "summation(8)"
   ]
  },
  {
   "cell_type": "markdown",
   "metadata": {},
   "source": [
    "### 9. If you can't sleep, just count sheep!!"
   ]
  },
  {
   "cell_type": "markdown",
   "metadata": {},
   "source": [
    "Given a non-negative integer, 3 for example, return a string with a murmur: \"1 sheep...2 sheep...3 sheep...\". Input will always be valid, i.e. no negative integers."
   ]
  },
  {
   "cell_type": "code",
   "execution_count": 40,
   "metadata": {},
   "outputs": [
    {
     "data": {
      "text/plain": [
       "'1 sheep...2 sheep...3 sheep...4 sheep...5 sheep...'"
      ]
     },
     "execution_count": 40,
     "metadata": {},
     "output_type": "execute_result"
    }
   ],
   "source": [
    "def count_sheep(n):\n",
    "    text=''\n",
    "    for i in range(1,n+1):\n",
    "        text+=str(i)+' sheep...'\n",
    "    return text\n",
    "count_sheep(5)"
   ]
  },
  {
   "cell_type": "markdown",
   "metadata": {},
   "source": [
    "### 10. Student's final grade \n",
    "Create a function finalGrade, which calculates the final grade of a student depending on two parameters: a grade for the exam and a number of completed projects.\n",
    "\n",
    "This function should take two arguments: exam - grade for exam (from 0 to 100); projects - number of completed projects (from 0 and above);\n",
    "\n",
    "This function should return a number (final grade). There are four types of final grades:\n",
    "\n",
    "    100, if a grade for the exam is more than 90 or if a number of completed projects more than 10.\n",
    "    90, if a grade for the exam is more than 75 and if a number of completed projects is minimum 5.\n",
    "    75, if a grade for the exam is more than 50 and if a number of completed projects is minimum 2.\n",
    "    0, in other cases\n"
   ]
  },
  {
   "cell_type": "code",
   "execution_count": 41,
   "metadata": {},
   "outputs": [],
   "source": [
    "def final_grade(exam, projects):\n",
    "    if exam>90 or projects > 10:\n",
    "        return 100\n",
    "    if exam>75 or projects >= 5:\n",
    "        return 90\n",
    "    if exam > 50 or projects >= 2:\n",
    "        return 75\n",
    "    return 0"
   ]
  },
  {
   "cell_type": "markdown",
   "metadata": {},
   "source": [
    "## Testing"
   ]
  },
  {
   "cell_type": "markdown",
   "metadata": {},
   "source": [
    "Do not touch the code, just run it"
   ]
  },
  {
   "cell_type": "code",
   "execution_count": 42,
   "metadata": {},
   "outputs": [
    {
     "name": "stderr",
     "output_type": "stream",
     "text": [
      "test_abbrevName (__main__.TestNotebook) ... ok\n",
      "test_count_sheep (__main__.TestNotebook) ... ok\n",
      "test_final_grade (__main__.TestNotebook) ... ok\n",
      "test_hello (__main__.TestNotebook) ... ok\n",
      "test_is_divisible (__main__.TestNotebook) ... ok\n",
      "test_positive_sum (__main__.TestNotebook) ... ok\n",
      "test_return_day (__main__.TestNotebook) ... ok\n",
      "test_sumOfStudents (__main__.TestNotebook) ... ok\n",
      "test_sum_mixed_array (__main__.TestNotebook) ... ok\n",
      "test_summation (__main__.TestNotebook) ... ok\n",
      "\n",
      "----------------------------------------------------------------------\n",
      "Ran 10 tests in 0.027s\n",
      "\n",
      "OK\n"
     ]
    },
    {
     "data": {
      "text/plain": [
       "<unittest.main.TestProgram at 0x208dce09eb8>"
      ]
     },
     "execution_count": 42,
     "metadata": {},
     "output_type": "execute_result"
    }
   ],
   "source": [
    "import unittest\n",
    " \n",
    "class TestNotebook(unittest.TestCase):\n",
    "    \n",
    "    def test_hello(self):\n",
    "        self.assertEqual(hello(),'Hello Anonymous')\n",
    "        self.assertEqual(hello(\"Jean\"),'Hello Jean')\n",
    "    \n",
    "    def test_sumOfStudents(self):\n",
    "        self.assertEqual(sumOfStudents([[\"Jean\", \"Alice\", \"Edwige\", \"Peter\", \"James\"],[\"Redouane\", \"Justine\", \"Adrien\", \"Nicolas\", \"Pierre\"]]), 10)\n",
    "        \n",
    " \n",
    "    def test_is_divisible (self):\n",
    "        self.assertEqual(is_divisible(3,3,4),False)\n",
    "        self.assertEqual(is_divisible(12,3,4),True)\n",
    "        self.assertEqual(is_divisible(8,3,4),False)\n",
    "        self.assertEqual(is_divisible(48,3,4),True)\n",
    "\n",
    "    \n",
    "    def test_abbrevName(self):\n",
    "        self.assertEqual(abbrevName(\"Sam Harris\"), \"S.H\");\n",
    "        self.assertEqual(abbrevName(\"Patrick Feenan\"), \"P.F\");\n",
    "        self.assertEqual(abbrevName(\"Evan Cole\"), \"E.C\");\n",
    "        self.assertEqual(abbrevName(\"P Favuzzi\"), \"P.F\");\n",
    "        self.assertEqual(abbrevName(\"David Mendieta\"), \"D.M\");\n",
    "\n",
    "    \n",
    "    def test_positive_sum(self):\n",
    "        self.assertEqual(positive_sum([1,2,3,4,5]),15)\n",
    "        self.assertEqual(positive_sum([1,-2,3,4,5]),13)\n",
    "        self.assertEqual(positive_sum([-1,2,3,4,-5]),9)\n",
    "        self.assertEqual(positive_sum([]),0)\n",
    "        self.assertEqual(positive_sum([-1,-2,-3,-4,-5]),0)\n",
    "    \n",
    "    def test_sum_mixed_array(self):\n",
    "        self.assertEqual(sum_mix([9, 3, '7', '3']), 22)\n",
    "        self.assertEqual(sum_mix(['5', '0', 9, 3, 2, 1, '9', 6, 7]), 42)\n",
    "        self.assertEqual(sum_mix(['3', 6, 6, 0, '5', 8, 5, '6', 2,'0']), 41)\n",
    "        self.assertEqual(sum_mix(['1', '5', '8', 8, 9, 9, 2, '3']), 45)\n",
    "        self.assertEqual(sum_mix([8, 0, 0, 8, 5, 7, 2, 3, 7, 8, 6, 7]), 61)\n",
    "    \n",
    "    def test_return_day(self):\n",
    "        self.assertEqual(whatday(1), 'Sunday')\n",
    "        self.assertEqual(whatday(2), 'Monday')\n",
    "        self.assertEqual(whatday(3), 'Tuesday')\n",
    "        self.assertEqual(whatday(8), 'Wrong, please enter a number between 1 and 7')\n",
    "        self.assertEqual(whatday(20), 'Wrong, please enter a number between 1 and 7')\n",
    "    \n",
    "    def test_final_grade(self):\n",
    "        self.assertEqual(final_grade(100, 12), 100)\n",
    "        self.assertEqual(final_grade(85, 5), 90)\n",
    "    \n",
    "    def test_count_sheep(self):\n",
    "        self.assertEqual(count_sheep(1), \"1 sheep...\");\n",
    "        self.assertEqual(count_sheep(2), \"1 sheep...2 sheep...\")\n",
    "        self.assertEqual(count_sheep(3), \"1 sheep...2 sheep...3 sheep...\")\n",
    "        \n",
    "    def test_summation(self):\n",
    "        self.assertEqual(summation(1), 1)\n",
    "        self.assertEqual(summation(8), 36)\n",
    "\n",
    "unittest.main(argv=[''], verbosity=2, exit=False)\n",
    "\n",
    "\n",
    "\n",
    "\n",
    "\n"
   ]
  },
  {
   "cell_type": "code",
   "execution_count": null,
   "metadata": {
    "collapsed": true
   },
   "outputs": [],
   "source": []
  }
 ],
 "metadata": {
  "kernelspec": {
   "display_name": "Python 3",
   "language": "python",
   "name": "python3"
  },
  "language_info": {
   "codemirror_mode": {
    "name": "ipython",
    "version": 3
   },
   "file_extension": ".py",
   "mimetype": "text/x-python",
   "name": "python",
   "nbconvert_exporter": "python",
   "pygments_lexer": "ipython3",
   "version": "3.6.5"
  }
 },
 "nbformat": 4,
 "nbformat_minor": 2
}
