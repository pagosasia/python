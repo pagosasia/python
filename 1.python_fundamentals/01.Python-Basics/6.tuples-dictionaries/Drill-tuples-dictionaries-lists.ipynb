{
 "cells": [
  {
   "cell_type": "markdown",
   "metadata": {},
   "source": [
    "# Drill : Lists, Tuples, Dictionaries"
   ]
  },
  {
   "cell_type": "markdown",
   "metadata": {},
   "source": [
    "### 1. Choose 5 words from the English language and create  dictionaries that associates each of these words with its French translation."
   ]
  },
  {
   "cell_type": "code",
   "execution_count": 1,
   "metadata": {},
   "outputs": [],
   "source": [
    "dictionnary={\"hello\":\"bonjour\", \"hi\": \"salut\", \"food\":\"nourriture\", \"dog\":\"chien\", \"cat\": \"chat\"}"
   ]
  },
  {
   "cell_type": "markdown",
   "metadata": {},
   "source": [
    "### 2. Add an entry to the dictionary of the previous question (a new word and its definition)"
   ]
  },
  {
   "cell_type": "code",
   "execution_count": 3,
   "metadata": {},
   "outputs": [
    {
     "data": {
      "text/plain": [
       "{'hello': 'bonjour',\n",
       " 'hi': 'salut',\n",
       " 'food': 'nourriture',\n",
       " 'dog': 'chien',\n",
       " 'cat': 'chat',\n",
       " 'bird': 'oiseau'}"
      ]
     },
     "execution_count": 3,
     "metadata": {},
     "output_type": "execute_result"
    }
   ],
   "source": [
    "dictionnary[\"bird\"] = \"oiseau\"\n",
    "dictionnary"
   ]
  },
  {
   "cell_type": "markdown",
   "metadata": {},
   "source": [
    "### 3. How would you cut the following string at each space and put it in a list: "
   ]
  },
  {
   "cell_type": "code",
   "execution_count": 4,
   "metadata": {},
   "outputs": [
    {
     "data": {
      "text/plain": [
       "['I', 'am', 'the', 'master', 'of', 'the', 'world']"
      ]
     },
     "execution_count": 4,
     "metadata": {},
     "output_type": "execute_result"
    }
   ],
   "source": [
    "sentence = \"I am the master of the world\"\n",
    "splited = sentence.split()\n",
    "splited"
   ]
  },
  {
   "cell_type": "markdown",
   "metadata": {},
   "source": [
    "### 4. Transform this string \"The_universal_number_is_42\" by removing the underscores: \"The universal number is 42\""
   ]
  },
  {
   "cell_type": "code",
   "execution_count": 5,
   "metadata": {},
   "outputs": [
    {
     "data": {
      "text/plain": [
       "'The universal number is 42'"
      ]
     },
     "execution_count": 5,
     "metadata": {},
     "output_type": "execute_result"
    }
   ],
   "source": [
    "universalNumber =  \"The_universal_number_is_42\" \n",
    "universalNumber = universalNumber.replace(\"_\", \" \")\n",
    "universalNumber"
   ]
  },
  {
   "cell_type": "markdown",
   "metadata": {},
   "source": [
    "### 5. Display only values of this dictionary."
   ]
  },
  {
   "cell_type": "code",
   "execution_count": 6,
   "metadata": {},
   "outputs": [
    {
     "data": {
      "text/plain": [
       "dict_values(['Clark kent', 'Bruce Wayne', 'Tony Parker'])"
      ]
     },
     "execution_count": 6,
     "metadata": {},
     "output_type": "execute_result"
    }
   ],
   "source": [
    "heroes = {\"Superman\" : \"Clark kent\", \"Batman\" : \"Bruce Wayne\", \"Spiderman\" : \"Tony Parker\"}\n",
    "heroes.values()"
   ]
  },
  {
   "cell_type": "markdown",
   "metadata": {},
   "source": [
    "### 6. Display only keys of this dictionary."
   ]
  },
  {
   "cell_type": "code",
   "execution_count": 7,
   "metadata": {},
   "outputs": [
    {
     "data": {
      "text/plain": [
       "dict_keys(['Superman', 'Batman', 'Spiderman'])"
      ]
     },
     "execution_count": 7,
     "metadata": {},
     "output_type": "execute_result"
    }
   ],
   "source": [
    "heroes = {\"Superman\" : \"Clark kent\", \"Batman\" : \"Bruce Wayne\", \"Spiderman\" : \"Tony Parker\"}\n",
    "heroes.keys()"
   ]
  },
  {
   "cell_type": "markdown",
   "metadata": {},
   "source": [
    "### 7. Replace the value of \"Spiderman\" by \"Peter Parker\"."
   ]
  },
  {
   "cell_type": "code",
   "execution_count": 9,
   "metadata": {},
   "outputs": [
    {
     "data": {
      "text/plain": [
       "{'Superman': 'Clark kent',\n",
       " 'Batman': 'Bruce Wayne',\n",
       " 'Spiderman': 'Peter Parker'}"
      ]
     },
     "execution_count": 9,
     "metadata": {},
     "output_type": "execute_result"
    }
   ],
   "source": [
    "heroes = {\"Superman\" : \"Clark kent\", \"Batman\" : \"Bruce Wayne\", \"Spiderman\" : \"Tony Parker\"}\n",
    "heroes[\"Spiderman\"] = \"Peter Parker\"\n",
    "heroes"
   ]
  },
  {
   "cell_type": "markdown",
   "metadata": {},
   "source": [
    "### 8. Create a dictionary to build the price base of the products corresponding to the following table:\n",
    "\n",
    "    Laser sword // 229.0\n",
    "    Mitendo DX // 127.30\n",
    "    Linux cushion // 74.50\n",
    "    Goldorak briefs // 29.90\n",
    "    Nextpresso station // 184.60"
   ]
  },
  {
   "cell_type": "code",
   "execution_count": 12,
   "metadata": {},
   "outputs": [],
   "source": [
    "products={\"Laser sword\": 229.0, \"Mitendo DX\": 127.30, \"Linux cushion\": 74.5, \"Goldorak briefs\":29.90, \"Nextpresso station\": 184.6}"
   ]
  },
  {
   "cell_type": "markdown",
   "metadata": {},
   "source": [
    "### 9. Calculate the total price of the items of the dictionary"
   ]
  },
  {
   "cell_type": "code",
   "execution_count": 13,
   "metadata": {},
   "outputs": [
    {
     "data": {
      "text/plain": [
       "645.3"
      ]
     },
     "execution_count": 13,
     "metadata": {},
     "output_type": "execute_result"
    }
   ],
   "source": [
    "sum(products.values())"
   ]
  },
  {
   "cell_type": "markdown",
   "metadata": {},
   "source": [
    "### 10. Remove one of the articles from the dictionary"
   ]
  },
  {
   "cell_type": "code",
   "execution_count": 14,
   "metadata": {},
   "outputs": [
    {
     "data": {
      "text/plain": [
       "('Nextpresso station', 184.6)"
      ]
     },
     "execution_count": 14,
     "metadata": {},
     "output_type": "execute_result"
    }
   ],
   "source": [
    "products.popitem()"
   ]
  },
  {
   "cell_type": "markdown",
   "metadata": {},
   "source": [
    "## [Next one](../7.loops-and-iterations/loops-and-iterations.ipynb)"
   ]
  }
 ],
 "metadata": {
  "kernelspec": {
   "display_name": "Python 3",
   "language": "python",
   "name": "python3"
  },
  "language_info": {
   "codemirror_mode": {
    "name": "ipython",
    "version": 3
   },
   "file_extension": ".py",
   "mimetype": "text/x-python",
   "name": "python",
   "nbconvert_exporter": "python",
   "pygments_lexer": "ipython3",
   "version": "3.6.5"
  }
 },
 "nbformat": 4,
 "nbformat_minor": 2
}
