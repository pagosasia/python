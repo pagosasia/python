{
 "cells": [
  {
   "cell_type": "markdown",
   "metadata": {},
   "source": [
    "**1. Create a variable ``name`` that contains the value \"Alan Turing\".**"
   ]
  },
  {
   "cell_type": "code",
   "execution_count": 16,
   "metadata": {
    "collapsed": true
   },
   "outputs": [],
   "source": [
    "name = \"Alan Turing\""
   ]
  },
  {
   "cell_type": "markdown",
   "metadata": {},
   "source": [
    "**2. Create a variable ``age`` that contains the value 42.**"
   ]
  },
  {
   "cell_type": "code",
   "execution_count": 18,
   "metadata": {
    "collapsed": true
   },
   "outputs": [],
   "source": [
    "age = 42"
   ]
  },
  {
   "cell_type": "markdown",
   "metadata": {},
   "source": [
    "**3. Create a person variable that contains a list with the following values ``name``, ``age``** and \"mathematician\""
   ]
  },
  {
   "cell_type": "code",
   "execution_count": 19,
   "metadata": {
    "collapsed": true
   },
   "outputs": [],
   "source": [
    "person = [name, age, \"mathematician\"]"
   ]
  },
  {
   "cell_type": "markdown",
   "metadata": {},
   "source": [
    "**4. Create a variable ``text`` that contains \"Hello, my name is Alan Turing and I am 42 years old and I am a mathematician\".  \n",
    "Use the format method and the variable ``person``  to do this.**"
   ]
  },
  {
   "cell_type": "code",
   "execution_count": 25,
   "metadata": {
    "collapsed": true
   },
   "outputs": [],
   "source": [
    "text = \"Hello, my name is {} and I am {} years old and I am a {}.\".format(person[0], person[1], person[2])"
   ]
  },
  {
   "cell_type": "markdown",
   "metadata": {},
   "source": [
    "**5. Create a variable ``typeAge`` that contains type of variable ``age.``**"
   ]
  },
  {
   "cell_type": "code",
   "execution_count": 26,
   "metadata": {
    "collapsed": true
   },
   "outputs": [],
   "source": [
    "typeAge = type(age)"
   ]
  },
  {
   "cell_type": "markdown",
   "metadata": {},
   "source": [
    "## Testing\n",
    "Every good developer tests his code. So we're going to get the right habits now. Do not change the code, execute it."
   ]
  },
  {
   "cell_type": "code",
   "execution_count": 27,
   "metadata": {
    "collapsed": true
   },
   "outputs": [
    {
     "output_type": "stream",
     "name": "stderr",
     "text": [
      "test_age (__main__.TestNotebook) ... ok\n",
      "test_name (__main__.TestNotebook) ... ok\n",
      "test_person (__main__.TestNotebook) ... ok\n",
      "test_text (__main__.TestNotebook) ... ok\n",
      "test_type (__main__.TestNotebook) ... ok\n",
      "\n",
      "----------------------------------------------------------------------\n",
      "Ran 5 tests in 0.007s\n",
      "\n",
      "OK\n"
     ]
    },
    {
     "output_type": "execute_result",
     "data": {
      "text/plain": [
       "<unittest.main.TestProgram at 0x221ceca9588>"
      ]
     },
     "metadata": {},
     "execution_count": 27
    }
   ],
   "source": [
    "import unittest\n",
    " \n",
    "class TestNotebook(unittest.TestCase):\n",
    " \n",
    "    def test_name(self):\n",
    "        self.assertEqual(name, \"Alan Turing\")\n",
    "    \n",
    "    def test_age(self):\n",
    "        self.assertEqual(age, 42)\n",
    "    \n",
    "    def test_person(self):\n",
    "        self.assertEqual(person,[\"Alan Turing\", 42, \"mathematician\"])\n",
    "    \n",
    "    def test_text(self):\n",
    "        self.assertEqual(text,\"Hello, my name is Alan Turing and I am 42 years old and I am a mathematician.\")\n",
    "        \n",
    "    def test_type(self):\n",
    "        self.assertEqual(typeAge,type(int()))\n",
    "    \n",
    "\n",
    "unittest.main(argv=[''], verbosity=2, exit=False)"
   ]
  },
  {
   "cell_type": "markdown",
   "metadata": {},
   "source": [
    "## [Is everything okay? Well, you can move on.](../3.basics-operators/basics-operators.ipynb)"
   ]
  }
 ],
 "metadata": {
  "kernelspec": {
   "display_name": "Python 3",
   "language": "python",
   "name": "python3"
  },
  "language_info": {
   "codemirror_mode": {
    "name": "ipython",
    "version": 3
   },
   "file_extension": ".py",
   "mimetype": "text/x-python",
   "name": "python",
   "nbconvert_exporter": "python",
   "pygments_lexer": "ipython3",
   "version": "3.6.5-final"
  }
 },
 "nbformat": 4,
 "nbformat_minor": 2
}